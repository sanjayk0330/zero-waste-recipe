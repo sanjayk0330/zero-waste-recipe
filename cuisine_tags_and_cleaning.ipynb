{
 "cells": [
  {
   "cell_type": "code",
   "execution_count": 56,
   "id": "604b59c5-34be-4f4c-b924-f287e85e1027",
   "metadata": {},
   "outputs": [],
   "source": [
    "import pandas as pd"
   ]
  },
  {
   "cell_type": "markdown",
   "id": "7d527dd9-712e-4169-b8b6-49001c5bf11e",
   "metadata": {},
   "source": [
    "We will first read the csv file titled RAW_recipes."
   ]
  },
  {
   "cell_type": "code",
   "execution_count": 57,
   "id": "8aedf167-e1fe-44a0-a790-9e30e7c5d7af",
   "metadata": {},
   "outputs": [],
   "source": [
    "RAW_recipes=pd.read_csv('RAW_recipes.csv')"
   ]
  },
  {
   "cell_type": "raw",
   "id": "1dc54221-ad7f-4211-a4aa-6a0287593637",
   "metadata": {},
   "source": [
    "RAW_recipes.head()"
   ]
  },
  {
   "cell_type": "markdown",
   "id": "78e10e5f-fb5a-4481-be18-e8ca395f9bd4",
   "metadata": {},
   "source": [
    "We want to see how an entry of \"tags\" column of this file looks like."
   ]
  },
  {
   "cell_type": "code",
   "execution_count": 58,
   "id": "94ca8b3a-fedb-4260-baed-58666207e8bf",
   "metadata": {},
   "outputs": [
    {
     "data": {
      "text/plain": [
       "\"['60-minutes-or-less', 'time-to-make', 'course', 'main-ingredient', 'cuisine', 'preparation', 'occasion', 'north-american', 'side-dishes', 'vegetables', 'mexican', 'easy', 'fall', 'holiday-event', 'vegetarian', 'winter', 'dietary', 'christmas', 'seasonal', 'squash']\""
      ]
     },
     "execution_count": 58,
     "metadata": {},
     "output_type": "execute_result"
    }
   ],
   "source": [
    "RAW_recipes['tags'][0]"
   ]
  },
  {
   "cell_type": "markdown",
   "id": "e5449617-0f97-4068-aed4-e1c2c52a46d3",
   "metadata": {},
   "source": [
    "We will write a function that turns a string to a list. We will use this function to turn some string entries of the columns RAW_recipes into lists. "
   ]
  },
  {
   "cell_type": "code",
   "execution_count": 59,
   "id": "55891e80-e233-4b82-8257-cb58a2b38560",
   "metadata": {},
   "outputs": [],
   "source": [
    "import ast\n",
    "\n",
    "def convert_to_list(tags_str):\n",
    "    try:\n",
    "        return ast.literal_eval(tags_str)\n",
    "    except (ValueError, SyntaxError):\n",
    "        return []"
   ]
  },
  {
   "cell_type": "code",
   "execution_count": 60,
   "id": "acedb754-172d-4dee-bdfc-409a25725775",
   "metadata": {},
   "outputs": [],
   "source": [
    "RAW_recipes['tags']=RAW_recipes['tags'].apply(convert_to_list)"
   ]
  },
  {
   "cell_type": "markdown",
   "id": "627a0121-7da4-4c76-ac03-5b79012bb023",
   "metadata": {},
   "source": [
    "We will write a function that will help us to read the \"tags\" column of RAW_recipes and look for certain cuisine related keywords. The following is keyword for the 100 best cuisines in the world given by Taste Atlas."
   ]
  },
  {
   "cell_type": "code",
   "execution_count": 61,
   "id": "356963ac-eb6b-4f2e-95f3-f5e2fbc4dabc",
   "metadata": {},
   "outputs": [],
   "source": [
    "world_cuisines = [\n",
    "    'italian',\n",
    "    'japanese',\n",
    "    'greek',\n",
    "    'portuguese',\n",
    "    'chinese',\n",
    "    'indonesian',\n",
    "    'mexican',\n",
    "    'french',\n",
    "    'spanish',\n",
    "    'peruvian',\n",
    "    'indian',\n",
    "    'brazilian',\n",
    "    'polish',\n",
    "    'argentinian',\n",
    "    'turkish',\n",
    "    'states',\n",
    "    'thai',\n",
    "    'korean',\n",
    "    'croatian',\n",
    "    'serbian',\n",
    "    'hungarian',\n",
    "    'vietnamese',\n",
    "    'iranian',\n",
    "    'chilean',\n",
    "    'lebanese',\n",
    "    'georgian',\n",
    "    'bosnian',\n",
    "    'colombian',\n",
    "    'romanian',\n",
    "    'bulgarian',\n",
    "    'malaysian',\n",
    "    'german',\n",
    "    'filipino',\n",
    "    'belgian',\n",
    "    'czech',\n",
    "    'austrian',\n",
    "    'swiss',\n",
    "    'lithuanian',\n",
    "    'english',\n",
    "    'algerian',\n",
    "    'russian',\n",
    "    'slovak',\n",
    "    'canadian',\n",
    "    'swedish',\n",
    "    'dutch',\n",
    "    'moroccan',\n",
    "    'scottish',\n",
    "    'ecuadorian',\n",
    "    'danish',\n",
    "    'australian',\n",
    "    'egyptian',\n",
    "    'south-african',\n",
    "    'ukrainian',\n",
    "    'syrian',\n",
    "    'irish',\n",
    "    'singaporean',\n",
    "    'pakistani',\n",
    "    'puerto',\n",
    "    'norwegian',\n",
    "    'bolivian',\n",
    "    'macedonian',\n",
    "    'israeli',\n",
    "    'palestinian',\n",
    "    'slovenian',\n",
    "    'finnish',\n",
    "    'tunisian',\n",
    "    'haitian',\n",
    "    'jamaican',\n",
    "    'armenian',\n",
    "    'venezuelan',\n",
    "    'belarusian',\n",
    "    'moldovan',\n",
    "    'lankan',\n",
    "    'jordanian',\n",
    "    'cuban',\n",
    "    'uzbekistani',\n",
    "    'azerbaijani',\n",
    "    'taiwanese',\n",
    "    'uruguayan',\n",
    "    'montenegrin',\n",
    "    'ethiopian',\n",
    "    'iraqi',\n",
    "    'qatari',\n",
    "    'trinidadian',\n",
    "    'libyan',\n",
    "    'lao',\n",
    "    'barbadian',\n",
    "    'cypriot',\n",
    "    'bengali',\n",
    "    'kazakhstani',\n",
    "    'albanian',\n",
    "    'kyrgyzstani',\n",
    "    'burmese',\n",
    "    'zealand',\n",
    "    'saudi',\n",
    "    'irish',\n",
    "    'bahamian',\n",
    "    'dominican',\n",
    "    'welsh',\n",
    "    'ghanaian'\n",
    "]"
   ]
  },
  {
   "cell_type": "markdown",
   "id": "6faa4252-b373-4291-bf16-5cb0771390c5",
   "metadata": {},
   "source": [
    "We will write a function that searches entries of \"tags\" column of the RAW_recipes for the keywords above. If there is a string which has the keyowrds above we return them."
   ]
  },
  {
   "cell_type": "code",
   "execution_count": 62,
   "id": "0a08e2fd-a1e8-44e3-9039-0138744e5e50",
   "metadata": {},
   "outputs": [],
   "source": [
    "def extract_cuisine_tags(tags):\n",
    "    cuisine_related_tags = []\n",
    "    for tag in tags:\n",
    "        for cuisine in world_cuisines:\n",
    "            if cuisine in tag:\n",
    "                cuisine_related_tags.append(tag)\n",
    "    return cuisine_related_tags\n",
    "\n",
    "# Create a new column in the RAW_recipes with the extracted cuisine-related tags\n",
    "RAW_recipes['Cuisine_Tags'] = RAW_recipes['tags'].apply(extract_cuisine_tags)"
   ]
  },
  {
   "cell_type": "markdown",
   "id": "a56259d0-60b3-42a9-9627-fc13314d5076",
   "metadata": {},
   "source": [
    "Now we will try to understand how many recipies are there with a Cuisine Tag we created."
   ]
  },
  {
   "cell_type": "code",
   "execution_count": 69,
   "id": "62949e3b-8622-439e-b479-c687121d14b8",
   "metadata": {},
   "outputs": [
    {
     "name": "stdout",
     "output_type": "stream",
     "text": [
      "Cuisine_Tags\n",
      "[]                                                                            176104\n",
      "[italian]                                                                       6911\n",
      "[southern-united-states]                                                        6277\n",
      "[mexican]                                                                       5642\n",
      "[canadian]                                                                      3923\n",
      "                                                                               ...  \n",
      "[canadian, french, southern-united-states, russian]                                1\n",
      "[brazilian, mexican, peruvian, venezuelan]                                         1\n",
      "[southern-united-states, irish, irish, polish, northeastern-united-states]         1\n",
      "[southwestern-united-states, moroccan]                                             1\n",
      "[greek, moroccan]                                                                  1\n",
      "Name: count, Length: 667, dtype: int64\n"
     ]
    }
   ],
   "source": [
    "# Count the occurrences of each category in the Cuisine_Tags column\n",
    "cuisine_category_counts = RAW_recipes['Cuisine_Tags'].value_counts()\n",
    "\n",
    "# Print the counts of all categories for reference\n",
    "print(cuisine_category_counts)"
   ]
  },
  {
   "cell_type": "markdown",
   "id": "2b7445e5-2feb-47bc-9e2c-3e96962b53bf",
   "metadata": {},
   "source": [
    "For the training purposes, we will clean the ones without a Cuisine Tag and the ones with more than a Cuisine Tag."
   ]
  },
  {
   "cell_type": "code",
   "execution_count": 64,
   "id": "10b115d0-5f1f-41f3-b94b-c6d1b9f64cc8",
   "metadata": {},
   "outputs": [],
   "source": [
    "# Get the indices of rows that do not have exactly one cuisine-related tag\n",
    "indices_no_cuisine_tags = RAW_recipes[RAW_recipes['Cuisine_Tags'].apply(lambda x: len(x) != 1)].index\n",
    "\n",
    "# Drop them\n",
    "RAW_recipes_cuisine_cleaned = RAW_recipes.drop(indices_no_cuisine_tags).reset_index(drop=True)"
   ]
  },
  {
   "cell_type": "code",
   "execution_count": 65,
   "id": "a7060da0-159f-4122-b4f1-38df3022dead",
   "metadata": {},
   "outputs": [
    {
     "name": "stdout",
     "output_type": "stream",
     "text": [
      "Cuisine_Tags\n",
      "[italian]                       6911\n",
      "[southern-united-states]        6277\n",
      "[mexican]                       5642\n",
      "[canadian]                      3923\n",
      "[indian]                        2564\n",
      "[australian]                    2355\n",
      "[southwestern-united-states]    2194\n",
      "[greek]                         2165\n",
      "[chinese]                       1841\n",
      "[french]                        1813\n",
      "[northeastern-united-states]    1724\n",
      "[german]                        1186\n",
      "[english]                       1173\n",
      "[thai]                          1116\n",
      "[spanish]                        871\n",
      "[moroccan]                       839\n",
      "[japanese]                       768\n",
      "[new-zealand]                    405\n",
      "[scottish]                       381\n",
      "[swedish]                        340\n",
      "[russian]                        322\n",
      "[vietnamese]                     314\n",
      "[south-african]                  313\n",
      "[swiss]                          302\n",
      "[polish]                         299\n",
      "[portuguese]                     292\n",
      "[hungarian]                      263\n",
      "[brazilian]                      230\n",
      "[korean]                         229\n",
      "[danish]                         215\n",
      "[cuban]                          213\n",
      "[iranian-persian]                209\n",
      "[turkish]                        208\n",
      "[lebanese]                       199\n",
      "[dutch]                          199\n",
      "[filipino]                       194\n",
      "[indonesian]                     187\n",
      "[norwegian]                      174\n",
      "[egyptian]                       165\n",
      "[finnish]                        163\n",
      "[austrian]                       110\n",
      "[peruvian]                       108\n",
      "[czech]                          102\n",
      "[belgian]                        100\n",
      "[ethiopian]                       85\n",
      "[pakistani]                       82\n",
      "[puerto-rican]                    81\n",
      "[malaysian]                       77\n",
      "[welsh]                           72\n",
      "[chilean]                         67\n",
      "[iraqi]                           67\n",
      "[colombian]                       66\n",
      "[saudi-arabian]                   66\n",
      "[palestinian]                     53\n",
      "[venezuelan]                      38\n",
      "[libyan]                          17\n",
      "[laotian]                         15\n",
      "[georgian]                         9\n",
      "[chinese-new-year]                 6\n",
      "Name: count, dtype: int64\n"
     ]
    }
   ],
   "source": [
    "# Count the occurrences of each category in the Cuisine_Tags\n",
    "cusine_category_counts = RAW_recipes_cuisine_cleaned['Cuisine_Tags'].value_counts()\n",
    "\n",
    "# Print the counts of all categories for reference\n",
    "print(cusine_category_counts)"
   ]
  },
  {
   "cell_type": "markdown",
   "id": "44bb4fe8-c72c-4840-898b-514e85bf93e9",
   "metadata": {},
   "source": [
    "There are 6 recipes with a tag \"chinese-new-year\". We will turn them into just \"chinese\"."
   ]
  },
  {
   "cell_type": "code",
   "execution_count": 66,
   "id": "31b9a8a5-ac5a-41c2-8865-a339fc2ebb7e",
   "metadata": {},
   "outputs": [],
   "source": [
    "# Define a function to replace 'chinese-new-year' with 'chinese'\n",
    "def replace_chinese_new_year(tags):\n",
    "    return ['chinese' if tag == 'chinese-new-year' else tag for tag in tags]\n",
    "\n",
    "# Apply the function to the 'Cuisine_Tags' column\n",
    "RAW_recipes_cuisine_cleaned['Cuisine_Tags'] = RAW_recipes_cuisine_cleaned['Cuisine_Tags'].apply(replace_chinese_new_year)"
   ]
  },
  {
   "cell_type": "markdown",
   "id": "c3859efa-782f-470c-90e9-187d6db204ba",
   "metadata": {},
   "source": [
    "Now we will check if everything went as we wanted."
   ]
  },
  {
   "cell_type": "code",
   "execution_count": 67,
   "id": "3856e55c-4522-4afb-bc63-9e26bddb651b",
   "metadata": {},
   "outputs": [
    {
     "name": "stdout",
     "output_type": "stream",
     "text": [
      "Cuisine_Tags\n",
      "[italian]                       6911\n",
      "[southern-united-states]        6277\n",
      "[mexican]                       5642\n",
      "[canadian]                      3923\n",
      "[indian]                        2564\n",
      "[australian]                    2355\n",
      "[southwestern-united-states]    2194\n",
      "[greek]                         2165\n",
      "[chinese]                       1847\n",
      "[french]                        1813\n",
      "[northeastern-united-states]    1724\n",
      "[german]                        1186\n",
      "[english]                       1173\n",
      "[thai]                          1116\n",
      "[spanish]                        871\n",
      "[moroccan]                       839\n",
      "[japanese]                       768\n",
      "[new-zealand]                    405\n",
      "[scottish]                       381\n",
      "[swedish]                        340\n",
      "[russian]                        322\n",
      "[vietnamese]                     314\n",
      "[south-african]                  313\n",
      "[swiss]                          302\n",
      "[polish]                         299\n",
      "[portuguese]                     292\n",
      "[hungarian]                      263\n",
      "[brazilian]                      230\n",
      "[korean]                         229\n",
      "[danish]                         215\n",
      "[cuban]                          213\n",
      "[iranian-persian]                209\n",
      "[turkish]                        208\n",
      "[dutch]                          199\n",
      "[lebanese]                       199\n",
      "[filipino]                       194\n",
      "[indonesian]                     187\n",
      "[norwegian]                      174\n",
      "[egyptian]                       165\n",
      "[finnish]                        163\n",
      "[austrian]                       110\n",
      "[peruvian]                       108\n",
      "[czech]                          102\n",
      "[belgian]                        100\n",
      "[ethiopian]                       85\n",
      "[pakistani]                       82\n",
      "[puerto-rican]                    81\n",
      "[malaysian]                       77\n",
      "[welsh]                           72\n",
      "[chilean]                         67\n",
      "[iraqi]                           67\n",
      "[colombian]                       66\n",
      "[saudi-arabian]                   66\n",
      "[palestinian]                     53\n",
      "[venezuelan]                      38\n",
      "[libyan]                          17\n",
      "[laotian]                         15\n",
      "[georgian]                         9\n",
      "Name: count, dtype: int64\n"
     ]
    }
   ],
   "source": [
    "# Count the occurrences of each category in the Time_Category column\n",
    "cusine_category_counts = RAW_recipes_cuisine_cleaned['Cuisine_Tags'].value_counts()\n",
    "\n",
    "# Print the counts of all categories for reference\n",
    "print(cusine_category_counts)"
   ]
  },
  {
   "cell_type": "code",
   "execution_count": 72,
   "id": "c3c5b40a-a73e-4b3f-ad0f-4b142b3cc051",
   "metadata": {},
   "outputs": [
    {
     "data": {
      "text/plain": [
       "50399"
      ]
     },
     "execution_count": 72,
     "metadata": {},
     "output_type": "execute_result"
    }
   ],
   "source": [
    "len(RAW_recipes_cuisine_cleaned)"
   ]
  },
  {
   "cell_type": "code",
   "execution_count": 73,
   "id": "08fff4ff-4e5c-49a4-8cf1-f87a9f5768e8",
   "metadata": {},
   "outputs": [
    {
     "data": {
      "text/plain": [
       "58"
      ]
     },
     "execution_count": 73,
     "metadata": {},
     "output_type": "execute_result"
    }
   ],
   "source": [
    "len(cusine_category_counts)"
   ]
  },
  {
   "cell_type": "markdown",
   "id": "2903f008-ecaf-46bd-b61b-5cff8e299287",
   "metadata": {},
   "source": [
    "So, we have categorized 50399 recipes into 58 cuisine categories. We can use this data set as a training set for a model that predicts the cuisine for a given list of ingredients or a recipe."
   ]
  },
  {
   "cell_type": "code",
   "execution_count": null,
   "id": "58344038-62f2-4d52-8d9f-1f48d63fa806",
   "metadata": {},
   "outputs": [],
   "source": []
  }
 ],
 "metadata": {
  "kernelspec": {
   "display_name": "Python 3 (ipykernel)",
   "language": "python",
   "name": "python3"
  },
  "language_info": {
   "codemirror_mode": {
    "name": "ipython",
    "version": 3
   },
   "file_extension": ".py",
   "mimetype": "text/x-python",
   "name": "python",
   "nbconvert_exporter": "python",
   "pygments_lexer": "ipython3",
   "version": "3.11.7"
  }
 },
 "nbformat": 4,
 "nbformat_minor": 5
}
