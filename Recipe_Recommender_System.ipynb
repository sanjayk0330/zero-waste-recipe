{
 "cells": [
  {
   "cell_type": "code",
   "execution_count": 1,
   "id": "61a4f58a-edda-4d91-9a89-1a1e31bd59ca",
   "metadata": {},
   "outputs": [],
   "source": [
    "import random\n",
    "from datetime import datetime, timedelta\n",
    "import pandas as pd\n",
    "import numpy as np\n",
    "import joblib\n",
    "from sklearn.feature_extraction.text import TfidfVectorizer\n",
    "import json"
   ]
  },
  {
   "cell_type": "code",
   "execution_count": 2,
   "id": "3faafe97",
   "metadata": {},
   "outputs": [],
   "source": [
    "with open('all_ingredients_list.txt', 'r') as f:\n",
    "    all_ingredients_list = [line.strip() for line in f]"
   ]
  },
  {
   "cell_type": "code",
   "execution_count": 3,
   "id": "6975a492",
   "metadata": {},
   "outputs": [
    {
     "data": {
      "text/plain": [
       "13732"
      ]
     },
     "execution_count": 3,
     "metadata": {},
     "output_type": "execute_result"
    }
   ],
   "source": [
    "len(all_ingredients_list)"
   ]
  },
  {
   "cell_type": "code",
   "execution_count": 4,
   "id": "a14fc396",
   "metadata": {},
   "outputs": [],
   "source": [
    "ingredients_at_home =   ['olive oil','thai green chili','chicken drumstick','serrano pepper','soymilk', 'coconut milk', 'fatty bacon', 'brown sugar', 'onion', 'garlic',\n",
    "                         'tomato', 'parsley', 'mint', 'lemon','yogurt', 'red pepper', 'black pepper', 'eggplant', 'green pepper', 'cucumber', 'sumac', 'dill', 'cumin', \n",
    "                         'thyme', 'rice', 'bulgur','lamb', 'chicken', 'beef', 'paprika', 'cinnamon', 'clove', 'oregano', 'chickpeas', 'lentils', 'pomegranate', 'apricots',\n",
    "                         'figs', 'grape leaves', 'walnuts', 'hazelnuts', 'pine nuts', 'pistachios', 'honey', 'molasses', 'rose water', 'orange blossom water', 'vinegar',\n",
    "                         'butter', 'feta cheese', 'kasseri cheese', 'haloumi cheese', 'phyllo dough', 'red lentils', 'black olives', 'green olives', 'bay leaves', 'coriander',\n",
    "                         'caper', 'allspice', 'star anise', 'cardamom', 'fenugreek', 'turmeric', 'ginger', 'saffron', 'sesame seeds', 'tahini', 'pomegranate molasses','cured beef',\n",
    "                         'fresh beans', 'green lentils', 'red cabbage', 'white cabbage', 'turnips', 'artichokes', 'okra', 'zucchini', 'pumpkin', 'cauliflower']"
   ]
  },
  {
   "cell_type": "code",
   "execution_count": 5,
   "id": "f1e560c6",
   "metadata": {},
   "outputs": [],
   "source": [
    "#!pip uninstall inflect typeguard typing-extensions -y\n",
    "#!pip install typing-extensions==4.7.1\n",
    "#!pip install inflect==5.3.0"
   ]
  },
  {
   "cell_type": "code",
   "execution_count": 6,
   "id": "ca35d73b",
   "metadata": {},
   "outputs": [],
   "source": [
    "import inflect\n",
    "p = inflect.engine()"
   ]
  },
  {
   "cell_type": "code",
   "execution_count": 7,
   "id": "7d4319a5",
   "metadata": {},
   "outputs": [],
   "source": [
    "def to_singular(ingredient):\n",
    "    return p.singular_noun(ingredient) or ingredient\n",
    "\n",
    "# Define a function to process a list of ingredients\n",
    "def process_ingredient_list(ingredient_list):\n",
    "    return [to_singular(ingredient) for ingredient in ingredient_list]"
   ]
  },
  {
   "cell_type": "code",
   "execution_count": 8,
   "id": "544c7ef3",
   "metadata": {},
   "outputs": [],
   "source": [
    "ingredients_at_home=process_ingredient_list(ingredients_at_home)"
   ]
  },
  {
   "cell_type": "code",
   "execution_count": 9,
   "id": "f281c363",
   "metadata": {},
   "outputs": [],
   "source": [
    "ingredients_at_home_appended=[\" \".join(ingredients_at_home)]"
   ]
  },
  {
   "cell_type": "code",
   "execution_count": 10,
   "id": "8619b973",
   "metadata": {},
   "outputs": [],
   "source": [
    "cuisine_ingredient_model= joblib.load('cuisine_prediction.joblib')"
   ]
  },
  {
   "cell_type": "code",
   "execution_count": 11,
   "id": "3ed3db4d",
   "metadata": {},
   "outputs": [],
   "source": [
    "ingredients_at_home_cuisine_type=cuisine_ingredient_model.predict(ingredients_at_home_appended)[0]"
   ]
  },
  {
   "cell_type": "code",
   "execution_count": 12,
   "id": "c3f41924",
   "metadata": {},
   "outputs": [
    {
     "name": "stdout",
     "output_type": "stream",
     "text": [
      "According to our algorithm, the ingredients you have at home are similar to the ingredients used in lebanese cuisine. Our algorithm is going to recommend you recipes from the cuisines similar to lebanese cuisine.\n"
     ]
    }
   ],
   "source": [
    "print(f\"According to our algorithm, the ingredients you have at home are similar to the ingredients used in {ingredients_at_home_cuisine_type} cuisine. Our algorithm is going to recommend you recipes from the cuisines similar to {ingredients_at_home_cuisine_type} cuisine.\")"
   ]
  },
  {
   "cell_type": "code",
   "execution_count": 58,
   "id": "b445f6eb",
   "metadata": {},
   "outputs": [
    {
     "name": "stdout",
     "output_type": "stream",
     "text": [
      "           Ingredient Expiration_Date\n",
      "0           olive oil      2024-07-08\n",
      "1    thai green chili      2024-08-21\n",
      "2   chicken drumstick      2024-09-05\n",
      "3      serrano pepper      2024-07-07\n",
      "4             soymilk      2024-06-14\n",
      "..                ...             ...\n",
      "75          artichoke      2024-05-31\n",
      "76               okra      2024-07-20\n",
      "77           zucchini      2024-07-31\n",
      "78            pumpkin      2024-07-28\n",
      "79        cauliflower      2024-08-30\n",
      "\n",
      "[80 rows x 2 columns]\n"
     ]
    }
   ],
   "source": [
    "def generate_random_date():\n",
    "    today = datetime.now()\n",
    "    random_days = random.randint(1, 100)\n",
    "    expiration_date = today + timedelta(days=random_days)\n",
    "    return expiration_date.strftime(\"%Y-%m-%d\")\n",
    "\n",
    "# Associate each selected ingredient with a random expiration date\n",
    "ingredients_with_dates = {ingredient: generate_random_date() for ingredient in ingredients_at_home}\n",
    "\n",
    "# Convert to a DataFrame for easier handling and potential saving\n",
    "df_ingredients = pd.DataFrame(list(ingredients_with_dates.items()), columns=['Ingredient', 'Expiration_Date'])\n",
    "\n",
    "# Print the DataFrame\n",
    "print(df_ingredients)"
   ]
  },
  {
   "cell_type": "code",
   "execution_count": 59,
   "id": "6aff408a",
   "metadata": {},
   "outputs": [],
   "source": [
    "# Convert the 'Expiration_Date' column to datetime format\n",
    "df_ingredients['Expiration_Date'] = pd.to_datetime(df_ingredients['Expiration_Date'])\n",
    "\n",
    "# Get the current date as a pandas Timestamp\n",
    "today = pd.Timestamp(datetime.now())\n",
    "\n",
    "# Calculate the number of days left until expiration\n",
    "df_ingredients['Days_Left'] = (df_ingredients['Expiration_Date'] - today).dt.days"
   ]
  },
  {
   "cell_type": "code",
   "execution_count": 60,
   "id": "99877ba6",
   "metadata": {},
   "outputs": [],
   "source": [
    "# Ensure the 'Ingredient' column is set as the index\n",
    "df_ingredients.set_index('Ingredient', inplace=True)"
   ]
  },
  {
   "cell_type": "code",
   "execution_count": 61,
   "id": "c18a2423",
   "metadata": {},
   "outputs": [
    {
     "data": {
      "text/html": [
       "<div>\n",
       "<style scoped>\n",
       "    .dataframe tbody tr th:only-of-type {\n",
       "        vertical-align: middle;\n",
       "    }\n",
       "\n",
       "    .dataframe tbody tr th {\n",
       "        vertical-align: top;\n",
       "    }\n",
       "\n",
       "    .dataframe thead th {\n",
       "        text-align: right;\n",
       "    }\n",
       "</style>\n",
       "<table border=\"1\" class=\"dataframe\">\n",
       "  <thead>\n",
       "    <tr style=\"text-align: right;\">\n",
       "      <th></th>\n",
       "      <th>Expiration_Date</th>\n",
       "      <th>Days_Left</th>\n",
       "    </tr>\n",
       "    <tr>\n",
       "      <th>Ingredient</th>\n",
       "      <th></th>\n",
       "      <th></th>\n",
       "    </tr>\n",
       "  </thead>\n",
       "  <tbody>\n",
       "    <tr>\n",
       "      <th>olive oil</th>\n",
       "      <td>2024-07-08</td>\n",
       "      <td>38</td>\n",
       "    </tr>\n",
       "    <tr>\n",
       "      <th>thai green chili</th>\n",
       "      <td>2024-08-21</td>\n",
       "      <td>82</td>\n",
       "    </tr>\n",
       "    <tr>\n",
       "      <th>chicken drumstick</th>\n",
       "      <td>2024-09-05</td>\n",
       "      <td>97</td>\n",
       "    </tr>\n",
       "    <tr>\n",
       "      <th>serrano pepper</th>\n",
       "      <td>2024-07-07</td>\n",
       "      <td>37</td>\n",
       "    </tr>\n",
       "    <tr>\n",
       "      <th>soymilk</th>\n",
       "      <td>2024-06-14</td>\n",
       "      <td>14</td>\n",
       "    </tr>\n",
       "    <tr>\n",
       "      <th>coconut milk</th>\n",
       "      <td>2024-06-15</td>\n",
       "      <td>15</td>\n",
       "    </tr>\n",
       "    <tr>\n",
       "      <th>fatty bacon</th>\n",
       "      <td>2024-06-03</td>\n",
       "      <td>3</td>\n",
       "    </tr>\n",
       "    <tr>\n",
       "      <th>brown sugar</th>\n",
       "      <td>2024-06-11</td>\n",
       "      <td>11</td>\n",
       "    </tr>\n",
       "    <tr>\n",
       "      <th>onion</th>\n",
       "      <td>2024-07-14</td>\n",
       "      <td>44</td>\n",
       "    </tr>\n",
       "    <tr>\n",
       "      <th>garlic</th>\n",
       "      <td>2024-06-28</td>\n",
       "      <td>28</td>\n",
       "    </tr>\n",
       "    <tr>\n",
       "      <th>tomato</th>\n",
       "      <td>2024-08-04</td>\n",
       "      <td>65</td>\n",
       "    </tr>\n",
       "    <tr>\n",
       "      <th>parsley</th>\n",
       "      <td>2024-06-01</td>\n",
       "      <td>1</td>\n",
       "    </tr>\n",
       "    <tr>\n",
       "      <th>mint</th>\n",
       "      <td>2024-08-27</td>\n",
       "      <td>88</td>\n",
       "    </tr>\n",
       "    <tr>\n",
       "      <th>lemon</th>\n",
       "      <td>2024-06-21</td>\n",
       "      <td>21</td>\n",
       "    </tr>\n",
       "    <tr>\n",
       "      <th>yogurt</th>\n",
       "      <td>2024-08-19</td>\n",
       "      <td>80</td>\n",
       "    </tr>\n",
       "    <tr>\n",
       "      <th>red pepper</th>\n",
       "      <td>2024-06-19</td>\n",
       "      <td>19</td>\n",
       "    </tr>\n",
       "    <tr>\n",
       "      <th>black pepper</th>\n",
       "      <td>2024-08-02</td>\n",
       "      <td>63</td>\n",
       "    </tr>\n",
       "    <tr>\n",
       "      <th>eggplant</th>\n",
       "      <td>2024-08-28</td>\n",
       "      <td>89</td>\n",
       "    </tr>\n",
       "    <tr>\n",
       "      <th>green pepper</th>\n",
       "      <td>2024-07-16</td>\n",
       "      <td>46</td>\n",
       "    </tr>\n",
       "    <tr>\n",
       "      <th>cucumber</th>\n",
       "      <td>2024-07-04</td>\n",
       "      <td>34</td>\n",
       "    </tr>\n",
       "    <tr>\n",
       "      <th>sumac</th>\n",
       "      <td>2024-08-11</td>\n",
       "      <td>72</td>\n",
       "    </tr>\n",
       "    <tr>\n",
       "      <th>dill</th>\n",
       "      <td>2024-07-03</td>\n",
       "      <td>33</td>\n",
       "    </tr>\n",
       "    <tr>\n",
       "      <th>cumin</th>\n",
       "      <td>2024-06-09</td>\n",
       "      <td>9</td>\n",
       "    </tr>\n",
       "    <tr>\n",
       "      <th>thyme</th>\n",
       "      <td>2024-06-04</td>\n",
       "      <td>4</td>\n",
       "    </tr>\n",
       "    <tr>\n",
       "      <th>rice</th>\n",
       "      <td>2024-08-06</td>\n",
       "      <td>67</td>\n",
       "    </tr>\n",
       "    <tr>\n",
       "      <th>bulgur</th>\n",
       "      <td>2024-08-08</td>\n",
       "      <td>69</td>\n",
       "    </tr>\n",
       "    <tr>\n",
       "      <th>lamb</th>\n",
       "      <td>2024-06-01</td>\n",
       "      <td>1</td>\n",
       "    </tr>\n",
       "    <tr>\n",
       "      <th>chicken</th>\n",
       "      <td>2024-08-27</td>\n",
       "      <td>88</td>\n",
       "    </tr>\n",
       "    <tr>\n",
       "      <th>beef</th>\n",
       "      <td>2024-09-06</td>\n",
       "      <td>98</td>\n",
       "    </tr>\n",
       "    <tr>\n",
       "      <th>paprika</th>\n",
       "      <td>2024-08-15</td>\n",
       "      <td>76</td>\n",
       "    </tr>\n",
       "    <tr>\n",
       "      <th>cinnamon</th>\n",
       "      <td>2024-06-24</td>\n",
       "      <td>24</td>\n",
       "    </tr>\n",
       "    <tr>\n",
       "      <th>clove</th>\n",
       "      <td>2024-05-31</td>\n",
       "      <td>0</td>\n",
       "    </tr>\n",
       "    <tr>\n",
       "      <th>oregano</th>\n",
       "      <td>2024-08-07</td>\n",
       "      <td>68</td>\n",
       "    </tr>\n",
       "    <tr>\n",
       "      <th>chickpea</th>\n",
       "      <td>2024-07-10</td>\n",
       "      <td>40</td>\n",
       "    </tr>\n",
       "    <tr>\n",
       "      <th>lentil</th>\n",
       "      <td>2024-07-26</td>\n",
       "      <td>56</td>\n",
       "    </tr>\n",
       "    <tr>\n",
       "      <th>pomegranate</th>\n",
       "      <td>2024-06-05</td>\n",
       "      <td>5</td>\n",
       "    </tr>\n",
       "    <tr>\n",
       "      <th>apricot</th>\n",
       "      <td>2024-06-23</td>\n",
       "      <td>23</td>\n",
       "    </tr>\n",
       "    <tr>\n",
       "      <th>fig</th>\n",
       "      <td>2024-07-16</td>\n",
       "      <td>46</td>\n",
       "    </tr>\n",
       "    <tr>\n",
       "      <th>grape leaf</th>\n",
       "      <td>2024-06-18</td>\n",
       "      <td>18</td>\n",
       "    </tr>\n",
       "    <tr>\n",
       "      <th>walnut</th>\n",
       "      <td>2024-07-03</td>\n",
       "      <td>33</td>\n",
       "    </tr>\n",
       "    <tr>\n",
       "      <th>hazelnut</th>\n",
       "      <td>2024-06-25</td>\n",
       "      <td>25</td>\n",
       "    </tr>\n",
       "    <tr>\n",
       "      <th>pine nut</th>\n",
       "      <td>2024-08-05</td>\n",
       "      <td>66</td>\n",
       "    </tr>\n",
       "    <tr>\n",
       "      <th>pistachio</th>\n",
       "      <td>2024-07-31</td>\n",
       "      <td>61</td>\n",
       "    </tr>\n",
       "    <tr>\n",
       "      <th>honey</th>\n",
       "      <td>2024-09-03</td>\n",
       "      <td>95</td>\n",
       "    </tr>\n",
       "    <tr>\n",
       "      <th>molass</th>\n",
       "      <td>2024-07-30</td>\n",
       "      <td>60</td>\n",
       "    </tr>\n",
       "    <tr>\n",
       "      <th>rose water</th>\n",
       "      <td>2024-09-07</td>\n",
       "      <td>99</td>\n",
       "    </tr>\n",
       "    <tr>\n",
       "      <th>orange blossom water</th>\n",
       "      <td>2024-06-13</td>\n",
       "      <td>13</td>\n",
       "    </tr>\n",
       "    <tr>\n",
       "      <th>vinegar</th>\n",
       "      <td>2024-09-06</td>\n",
       "      <td>98</td>\n",
       "    </tr>\n",
       "    <tr>\n",
       "      <th>butter</th>\n",
       "      <td>2024-06-13</td>\n",
       "      <td>13</td>\n",
       "    </tr>\n",
       "    <tr>\n",
       "      <th>feta cheese</th>\n",
       "      <td>2024-08-13</td>\n",
       "      <td>74</td>\n",
       "    </tr>\n",
       "  </tbody>\n",
       "</table>\n",
       "</div>"
      ],
      "text/plain": [
       "                     Expiration_Date  Days_Left\n",
       "Ingredient                                     \n",
       "olive oil                 2024-07-08         38\n",
       "thai green chili          2024-08-21         82\n",
       "chicken drumstick         2024-09-05         97\n",
       "serrano pepper            2024-07-07         37\n",
       "soymilk                   2024-06-14         14\n",
       "coconut milk              2024-06-15         15\n",
       "fatty bacon               2024-06-03          3\n",
       "brown sugar               2024-06-11         11\n",
       "onion                     2024-07-14         44\n",
       "garlic                    2024-06-28         28\n",
       "tomato                    2024-08-04         65\n",
       "parsley                   2024-06-01          1\n",
       "mint                      2024-08-27         88\n",
       "lemon                     2024-06-21         21\n",
       "yogurt                    2024-08-19         80\n",
       "red pepper                2024-06-19         19\n",
       "black pepper              2024-08-02         63\n",
       "eggplant                  2024-08-28         89\n",
       "green pepper              2024-07-16         46\n",
       "cucumber                  2024-07-04         34\n",
       "sumac                     2024-08-11         72\n",
       "dill                      2024-07-03         33\n",
       "cumin                     2024-06-09          9\n",
       "thyme                     2024-06-04          4\n",
       "rice                      2024-08-06         67\n",
       "bulgur                    2024-08-08         69\n",
       "lamb                      2024-06-01          1\n",
       "chicken                   2024-08-27         88\n",
       "beef                      2024-09-06         98\n",
       "paprika                   2024-08-15         76\n",
       "cinnamon                  2024-06-24         24\n",
       "clove                     2024-05-31          0\n",
       "oregano                   2024-08-07         68\n",
       "chickpea                  2024-07-10         40\n",
       "lentil                    2024-07-26         56\n",
       "pomegranate               2024-06-05          5\n",
       "apricot                   2024-06-23         23\n",
       "fig                       2024-07-16         46\n",
       "grape leaf                2024-06-18         18\n",
       "walnut                    2024-07-03         33\n",
       "hazelnut                  2024-06-25         25\n",
       "pine nut                  2024-08-05         66\n",
       "pistachio                 2024-07-31         61\n",
       "honey                     2024-09-03         95\n",
       "molass                    2024-07-30         60\n",
       "rose water                2024-09-07         99\n",
       "orange blossom water      2024-06-13         13\n",
       "vinegar                   2024-09-06         98\n",
       "butter                    2024-06-13         13\n",
       "feta cheese               2024-08-13         74"
      ]
     },
     "execution_count": 61,
     "metadata": {},
     "output_type": "execute_result"
    }
   ],
   "source": [
    "df_ingredients.head(50)"
   ]
  },
  {
   "cell_type": "code",
   "execution_count": 62,
   "id": "6820c13a",
   "metadata": {},
   "outputs": [],
   "source": [
    "# Step 2: Create the weighted pantry vector in a sparse way\n",
    "weighted_pantry_vector = np.array([1/(0.01+df_ingredients.at[ingredient, 'Days_Left']) if ingredient in df_ingredients.index else 0 for ingredient in all_ingredients_list])"
   ]
  },
  {
   "cell_type": "code",
   "execution_count": 63,
   "id": "0486bf8d",
   "metadata": {},
   "outputs": [],
   "source": [
    "Recipes=pd.read_csv('RAW_recipes_with_clusters.csv')"
   ]
  },
  {
   "cell_type": "code",
   "execution_count": 64,
   "id": "e34d6fba",
   "metadata": {},
   "outputs": [
    {
     "data": {
      "text/html": [
       "<div>\n",
       "<style scoped>\n",
       "    .dataframe tbody tr th:only-of-type {\n",
       "        vertical-align: middle;\n",
       "    }\n",
       "\n",
       "    .dataframe tbody tr th {\n",
       "        vertical-align: top;\n",
       "    }\n",
       "\n",
       "    .dataframe thead th {\n",
       "        text-align: right;\n",
       "    }\n",
       "</style>\n",
       "<table border=\"1\" class=\"dataframe\">\n",
       "  <thead>\n",
       "    <tr style=\"text-align: right;\">\n",
       "      <th></th>\n",
       "      <th>name</th>\n",
       "      <th>id</th>\n",
       "      <th>minutes</th>\n",
       "      <th>contributor_id</th>\n",
       "      <th>submitted</th>\n",
       "      <th>tags</th>\n",
       "      <th>nutrition</th>\n",
       "      <th>n_steps</th>\n",
       "      <th>steps</th>\n",
       "      <th>description</th>\n",
       "      <th>ingredients</th>\n",
       "      <th>n_ingredients</th>\n",
       "      <th>Cuisine_Tags</th>\n",
       "      <th>5_Clusters</th>\n",
       "      <th>10_Clusters</th>\n",
       "      <th>15_Clusters</th>\n",
       "      <th>20_Clusters</th>\n",
       "      <th>30_Clusters</th>\n",
       "    </tr>\n",
       "  </thead>\n",
       "  <tbody>\n",
       "    <tr>\n",
       "      <th>0</th>\n",
       "      <td>arriba   baked winter squash mexican style</td>\n",
       "      <td>137739</td>\n",
       "      <td>55</td>\n",
       "      <td>47892</td>\n",
       "      <td>2005-09-16</td>\n",
       "      <td>['60-minutes-or-less', 'time-to-make', 'course...</td>\n",
       "      <td>[51.5, 0.0, 13.0, 0.0, 2.0, 0.0, 4.0]</td>\n",
       "      <td>11</td>\n",
       "      <td>['make a choice and proceed with recipe', 'dep...</td>\n",
       "      <td>autumn is my favorite time of year to cook! th...</td>\n",
       "      <td>['winter squash', 'mexican seasoning', 'mixed ...</td>\n",
       "      <td>7</td>\n",
       "      <td>['mexican']</td>\n",
       "      <td>3</td>\n",
       "      <td>5</td>\n",
       "      <td>9</td>\n",
       "      <td>12</td>\n",
       "      <td>20</td>\n",
       "    </tr>\n",
       "    <tr>\n",
       "      <th>1</th>\n",
       "      <td>a bit different  breakfast pizza</td>\n",
       "      <td>31490</td>\n",
       "      <td>30</td>\n",
       "      <td>26278</td>\n",
       "      <td>2002-06-17</td>\n",
       "      <td>['30-minutes-or-less', 'time-to-make', 'course...</td>\n",
       "      <td>[173.4, 18.0, 0.0, 17.0, 22.0, 35.0, 1.0]</td>\n",
       "      <td>9</td>\n",
       "      <td>['preheat oven to 425 degrees f', 'press dough...</td>\n",
       "      <td>this recipe calls for the crust to be prebaked...</td>\n",
       "      <td>['prepared pizza crust', 'sausage patty', 'egg...</td>\n",
       "      <td>6</td>\n",
       "      <td>['northeastern-united-states']</td>\n",
       "      <td>4</td>\n",
       "      <td>9</td>\n",
       "      <td>13</td>\n",
       "      <td>18</td>\n",
       "      <td>27</td>\n",
       "    </tr>\n",
       "    <tr>\n",
       "      <th>2</th>\n",
       "      <td>amish  tomato ketchup  for canning</td>\n",
       "      <td>44061</td>\n",
       "      <td>190</td>\n",
       "      <td>41706</td>\n",
       "      <td>2002-10-25</td>\n",
       "      <td>['weeknight', 'time-to-make', 'course', 'main-...</td>\n",
       "      <td>[352.9, 1.0, 337.0, 23.0, 3.0, 0.0, 28.0]</td>\n",
       "      <td>5</td>\n",
       "      <td>['mix all ingredients&amp; boil for 2 1 / 2 hours ...</td>\n",
       "      <td>my dh's amish mother raised him on this recipe...</td>\n",
       "      <td>['tomato juice', 'apple cider vinegar', 'sugar...</td>\n",
       "      <td>8</td>\n",
       "      <td>['northeastern-united-states']</td>\n",
       "      <td>4</td>\n",
       "      <td>9</td>\n",
       "      <td>13</td>\n",
       "      <td>18</td>\n",
       "      <td>27</td>\n",
       "    </tr>\n",
       "    <tr>\n",
       "      <th>3</th>\n",
       "      <td>aww  marinated olives</td>\n",
       "      <td>25274</td>\n",
       "      <td>15</td>\n",
       "      <td>21730</td>\n",
       "      <td>2002-04-14</td>\n",
       "      <td>['15-minutes-or-less', 'time-to-make', 'course...</td>\n",
       "      <td>[380.7, 53.0, 7.0, 24.0, 6.0, 24.0, 6.0]</td>\n",
       "      <td>4</td>\n",
       "      <td>['toast the fennel seeds and lightly crush the...</td>\n",
       "      <td>my italian mil was thoroughly impressed by my ...</td>\n",
       "      <td>['fennel seed', 'green olive', 'ripe olive', '...</td>\n",
       "      <td>9</td>\n",
       "      <td>['canadian']</td>\n",
       "      <td>4</td>\n",
       "      <td>9</td>\n",
       "      <td>13</td>\n",
       "      <td>18</td>\n",
       "      <td>27</td>\n",
       "    </tr>\n",
       "    <tr>\n",
       "      <th>4</th>\n",
       "      <td>chile rellenos</td>\n",
       "      <td>43026</td>\n",
       "      <td>45</td>\n",
       "      <td>52268</td>\n",
       "      <td>2002-10-14</td>\n",
       "      <td>['60-minutes-or-less', 'time-to-make', 'course...</td>\n",
       "      <td>[94.0, 10.0, 0.0, 11.0, 11.0, 21.0, 0.0]</td>\n",
       "      <td>9</td>\n",
       "      <td>['drain green chiles', 'sprinkle cornstarch on...</td>\n",
       "      <td>a favorite from a local restaurant no longer i...</td>\n",
       "      <td>['egg roll wrap', 'whole green chili', 'cheese...</td>\n",
       "      <td>5</td>\n",
       "      <td>['southwestern-united-states']</td>\n",
       "      <td>3</td>\n",
       "      <td>5</td>\n",
       "      <td>9</td>\n",
       "      <td>12</td>\n",
       "      <td>20</td>\n",
       "    </tr>\n",
       "  </tbody>\n",
       "</table>\n",
       "</div>"
      ],
      "text/plain": [
       "                                         name      id  minutes  \\\n",
       "0  arriba   baked winter squash mexican style  137739       55   \n",
       "1            a bit different  breakfast pizza   31490       30   \n",
       "2          amish  tomato ketchup  for canning   44061      190   \n",
       "3                       aww  marinated olives   25274       15   \n",
       "4                              chile rellenos   43026       45   \n",
       "\n",
       "   contributor_id   submitted  \\\n",
       "0           47892  2005-09-16   \n",
       "1           26278  2002-06-17   \n",
       "2           41706  2002-10-25   \n",
       "3           21730  2002-04-14   \n",
       "4           52268  2002-10-14   \n",
       "\n",
       "                                                tags  \\\n",
       "0  ['60-minutes-or-less', 'time-to-make', 'course...   \n",
       "1  ['30-minutes-or-less', 'time-to-make', 'course...   \n",
       "2  ['weeknight', 'time-to-make', 'course', 'main-...   \n",
       "3  ['15-minutes-or-less', 'time-to-make', 'course...   \n",
       "4  ['60-minutes-or-less', 'time-to-make', 'course...   \n",
       "\n",
       "                                   nutrition  n_steps  \\\n",
       "0      [51.5, 0.0, 13.0, 0.0, 2.0, 0.0, 4.0]       11   \n",
       "1  [173.4, 18.0, 0.0, 17.0, 22.0, 35.0, 1.0]        9   \n",
       "2  [352.9, 1.0, 337.0, 23.0, 3.0, 0.0, 28.0]        5   \n",
       "3   [380.7, 53.0, 7.0, 24.0, 6.0, 24.0, 6.0]        4   \n",
       "4   [94.0, 10.0, 0.0, 11.0, 11.0, 21.0, 0.0]        9   \n",
       "\n",
       "                                               steps  \\\n",
       "0  ['make a choice and proceed with recipe', 'dep...   \n",
       "1  ['preheat oven to 425 degrees f', 'press dough...   \n",
       "2  ['mix all ingredients& boil for 2 1 / 2 hours ...   \n",
       "3  ['toast the fennel seeds and lightly crush the...   \n",
       "4  ['drain green chiles', 'sprinkle cornstarch on...   \n",
       "\n",
       "                                         description  \\\n",
       "0  autumn is my favorite time of year to cook! th...   \n",
       "1  this recipe calls for the crust to be prebaked...   \n",
       "2  my dh's amish mother raised him on this recipe...   \n",
       "3  my italian mil was thoroughly impressed by my ...   \n",
       "4  a favorite from a local restaurant no longer i...   \n",
       "\n",
       "                                         ingredients  n_ingredients  \\\n",
       "0  ['winter squash', 'mexican seasoning', 'mixed ...              7   \n",
       "1  ['prepared pizza crust', 'sausage patty', 'egg...              6   \n",
       "2  ['tomato juice', 'apple cider vinegar', 'sugar...              8   \n",
       "3  ['fennel seed', 'green olive', 'ripe olive', '...              9   \n",
       "4  ['egg roll wrap', 'whole green chili', 'cheese...              5   \n",
       "\n",
       "                     Cuisine_Tags  5_Clusters  10_Clusters  15_Clusters  \\\n",
       "0                     ['mexican']           3            5            9   \n",
       "1  ['northeastern-united-states']           4            9           13   \n",
       "2  ['northeastern-united-states']           4            9           13   \n",
       "3                    ['canadian']           4            9           13   \n",
       "4  ['southwestern-united-states']           3            5            9   \n",
       "\n",
       "   20_Clusters  30_Clusters  \n",
       "0           12           20  \n",
       "1           18           27  \n",
       "2           18           27  \n",
       "3           18           27  \n",
       "4           12           20  "
      ]
     },
     "execution_count": 64,
     "metadata": {},
     "output_type": "execute_result"
    }
   ],
   "source": [
    "Recipes.head()"
   ]
  },
  {
   "cell_type": "code",
   "execution_count": 65,
   "id": "e0d81593",
   "metadata": {},
   "outputs": [],
   "source": [
    "openness_to_different_cuisines=3"
   ]
  },
  {
   "cell_type": "code",
   "execution_count": 66,
   "id": "44e21546",
   "metadata": {},
   "outputs": [],
   "source": [
    "if openness_to_different_cuisines==1:\n",
    "    with open('cuisine_clusters30.json', 'r') as f:\n",
    "        clusters_for_recipes = json.load(f) \n",
    "elif openness_to_different_cuisines==2:\n",
    "    with open('cuisine_clusters20.json', 'r') as f:\n",
    "        clusters_for_recipes = json.load(f)\n",
    "elif openness_to_different_cuisines==3:\n",
    "    with open('cuisine_clusters15.json', 'r') as f:\n",
    "        clusters_for_recipes = json.load(f)\n",
    "elif openness_to_different_cuisines==4:\n",
    "    with open('cuisine_clusters10.json', 'r') as f:\n",
    "        clusters_for_recipes = json.load(f)\n",
    "else:\n",
    "    with open('cuisine_clusters5.json', 'r') as f:\n",
    "        clusters_for_recipes = json.load(f)"
   ]
  },
  {
   "cell_type": "code",
   "execution_count": 67,
   "id": "92eb5433",
   "metadata": {},
   "outputs": [],
   "source": [
    "cuisine_to_cluster = {cuisine: cluster for cluster, cuisines in clusters_for_recipes.items() for cuisine in cuisines}\n",
    "def get_cluster_number(cuisine_tags):\n",
    "    return np.int64(cuisine_to_cluster.get(cuisine_tags[0], None))"
   ]
  },
  {
   "cell_type": "code",
   "execution_count": 68,
   "id": "26b1b8fe",
   "metadata": {},
   "outputs": [],
   "source": [
    "Preferred_cuisine_number=get_cluster_number([ingredients_at_home_cuisine_type])"
   ]
  },
  {
   "cell_type": "code",
   "execution_count": 69,
   "id": "98ca5f32",
   "metadata": {},
   "outputs": [],
   "source": [
    "if openness_to_different_cuisines==1:\n",
    "    Recipes_Preffered = Recipes[Recipes['30_Clusters'] == Preferred_cuisine_number]\n",
    "elif openness_to_different_cuisines==2:\n",
    "    Recipes_Preffered = Recipes[Recipes['20_Clusters'] == Preferred_cuisine_number]\n",
    "elif openness_to_different_cuisines==3:\n",
    "    Recipes_Preffered = Recipes[Recipes['15_Clusters'] == Preferred_cuisine_number]\n",
    "elif openness_to_different_cuisines==4:\n",
    "    Recipes_Preffered = Recipes[Recipes['10_Clusters'] == Preferred_cuisine_number]\n",
    "else:\n",
    "    Recipes_Preffered = Recipes[Recipes['5_Clusters'] == Preferred_cuisine_number]"
   ]
  },
  {
   "cell_type": "code",
   "execution_count": 70,
   "id": "0667388a",
   "metadata": {},
   "outputs": [],
   "source": [
    "Recipes_Preffered.reset_index(drop=True, inplace=True)"
   ]
  },
  {
   "cell_type": "code",
   "execution_count": 71,
   "id": "2de52342",
   "metadata": {},
   "outputs": [
    {
     "data": {
      "text/plain": [
       "38904"
      ]
     },
     "execution_count": 71,
     "metadata": {},
     "output_type": "execute_result"
    }
   ],
   "source": [
    "len(Recipes_Preffered)"
   ]
  },
  {
   "cell_type": "code",
   "execution_count": 72,
   "id": "e757fc8f",
   "metadata": {},
   "outputs": [
    {
     "name": "stderr",
     "output_type": "stream",
     "text": [
      "C:\\Users\\Deniz\\AppData\\Local\\Temp\\ipykernel_6776\\2657523056.py:3: SettingWithCopyWarning: \n",
      "A value is trying to be set on a copy of a slice from a DataFrame.\n",
      "Try using .loc[row_indexer,col_indexer] = value instead\n",
      "\n",
      "See the caveats in the documentation: https://pandas.pydata.org/pandas-docs/stable/user_guide/indexing.html#returning-a-view-versus-a-copy\n",
      "  Recipes_Preffered['Cuisine_Tags']=Recipes_Preffered['Cuisine_Tags'].apply(ast.literal_eval)\n"
     ]
    }
   ],
   "source": [
    "import ast\n",
    "ingredients_of_recipes=Recipes_Preffered['ingredients'].apply(ast.literal_eval)\n",
    "Recipes_Preffered['Cuisine_Tags']=Recipes_Preffered['Cuisine_Tags'].apply(ast.literal_eval)"
   ]
  },
  {
   "cell_type": "code",
   "execution_count": 73,
   "id": "dcb9a766",
   "metadata": {},
   "outputs": [
    {
     "data": {
      "text/plain": [
       "38904"
      ]
     },
     "execution_count": 73,
     "metadata": {},
     "output_type": "execute_result"
    }
   ],
   "source": [
    "len(ingredients_of_recipes)"
   ]
  },
  {
   "cell_type": "code",
   "execution_count": 74,
   "id": "91b2b779",
   "metadata": {},
   "outputs": [],
   "source": [
    "from scipy.sparse import lil_matrix, csr_matrix\n",
    "from scipy.sparse import save_npz, load_npz"
   ]
  },
  {
   "cell_type": "code",
   "execution_count": 75,
   "id": "b4bc7ab2",
   "metadata": {},
   "outputs": [],
   "source": [
    "num_recipes = len(ingredients_of_recipes)\n",
    "num_ingredients = len(all_ingredients_list)"
   ]
  },
  {
   "cell_type": "code",
   "execution_count": 76,
   "id": "f12e568b",
   "metadata": {},
   "outputs": [],
   "source": [
    "# Step 2: Create a mapping from ingredient to index\n",
    "ingredient_to_index = {ingredient: idx for idx, ingredient in enumerate(all_ingredients_list)}"
   ]
  },
  {
   "cell_type": "code",
   "execution_count": 77,
   "id": "85814cf0",
   "metadata": {},
   "outputs": [],
   "source": [
    "# Initialize a sparse matrix with the shape (num_recipes, num_ingredients)\n",
    "binary_matrix = lil_matrix((num_recipes, num_ingredients), dtype=int)\n",
    "\n",
    "# Fill the sparse matrix\n",
    "for i, recipe_ingredients in enumerate(ingredients_of_recipes):\n",
    "    for ingredient in recipe_ingredients:\n",
    "        if ingredient in ingredient_to_index:\n",
    "            j = ingredient_to_index[ingredient]\n",
    "            binary_matrix[i, j] = 1\n"
   ]
  },
  {
   "cell_type": "code",
   "execution_count": 78,
   "id": "b8ec101e",
   "metadata": {},
   "outputs": [],
   "source": [
    "# Convert to CSR format for efficient arithmetic and matrix operations\n",
    "binary_matrix_csr = binary_matrix.tocsr()"
   ]
  },
  {
   "cell_type": "code",
   "execution_count": 79,
   "id": "b0b24de1",
   "metadata": {},
   "outputs": [],
   "source": [
    "weighted_pantry_vector_sparse = csr_matrix(weighted_pantry_vector)"
   ]
  },
  {
   "cell_type": "code",
   "execution_count": 80,
   "id": "236f4068",
   "metadata": {},
   "outputs": [],
   "source": [
    "recipe_scores=binary_matrix_csr.dot(weighted_pantry_vector_sparse.T)"
   ]
  },
  {
   "cell_type": "code",
   "execution_count": 81,
   "id": "5b884681",
   "metadata": {},
   "outputs": [],
   "source": [
    "recipe_scores=np.array(recipe_scores.toarray().flatten().tolist())"
   ]
  },
  {
   "cell_type": "code",
   "execution_count": 82,
   "id": "30a0792d",
   "metadata": {},
   "outputs": [
    {
     "data": {
      "text/plain": [
       "array([19451,  6502, 20569, ...,  2270, 26886, 34439], dtype=int64)"
      ]
     },
     "execution_count": 82,
     "metadata": {},
     "output_type": "execute_result"
    }
   ],
   "source": [
    "np.argsort(recipe_scores)"
   ]
  },
  {
   "cell_type": "code",
   "execution_count": 83,
   "id": "d68fe4b0-92b6-4cf8-9953-b2ab22f0a27c",
   "metadata": {},
   "outputs": [
    {
     "data": {
      "text/plain": [
       "array([101.07828793, 101.1410682 , 101.14815559, 101.23724926,\n",
       "       101.23801984, 101.26578443, 101.28006811, 101.40413173,\n",
       "       101.56938981, 101.58118637])"
      ]
     },
     "execution_count": 83,
     "metadata": {},
     "output_type": "execute_result"
    }
   ],
   "source": [
    "# Find the indices of the 10 largest entries\n",
    "indices_of_largest_entries = np.argsort(recipe_scores)[-10:]\n",
    "\n",
    "# Get the 10 largest entries using the indices\n",
    "recipe_scores[indices_of_largest_entries]"
   ]
  },
  {
   "cell_type": "code",
   "execution_count": 84,
   "id": "702e52bb-f3ba-4bda-8817-b7f954ee4fff",
   "metadata": {},
   "outputs": [
    {
     "data": {
      "text/plain": [
       "34439"
      ]
     },
     "execution_count": 84,
     "metadata": {},
     "output_type": "execute_result"
    }
   ],
   "source": [
    "indices_of_largest_entries[9]"
   ]
  },
  {
   "cell_type": "code",
   "execution_count": 85,
   "id": "838fbe56",
   "metadata": {},
   "outputs": [
    {
     "data": {
      "text/plain": [
       "'spicy lamb meatballs and lentils'"
      ]
     },
     "execution_count": 85,
     "metadata": {},
     "output_type": "execute_result"
    }
   ],
   "source": [
    "Recipes_Preffered['name'][indices_of_largest_entries[9]]"
   ]
  },
  {
   "cell_type": "code",
   "execution_count": 86,
   "id": "c1bed1b5-3b44-49f1-a12a-f4a1946f1a01",
   "metadata": {},
   "outputs": [
    {
     "data": {
      "text/plain": [
       "\"['in a bowl , combine lamb , bacon , water , garlic , mint , parsley , spices and seasoning', 'mix well', 'divide the mixture into about 25-30 small meatballs- flatten a little to a disc shape', 'place on tray and refrigerate until ready to use', 'to prepare the lentils , heat the olive oil in pan and add the onion , carrot and cloves of garlic and saute for 5 minutes until the onions have become transparent', 'add the lentils and stir to coat with the oil , about 2-3 minutes', 'add 1 cup tomatoes , chicken stock , seasoning and bouquet garni', 'bring to the boil and turn down to a simmer', 'cover and cook until the lentils are tender', 'discard the bouquet garni', 'heat extra olive oil in a pan and saute the meatballs in batches in a single layer', 'remove and add to the lentils', 'continue to simmer the meatballs and lentils for 15 minutes or until the meatballs are cooked through', 'add the remaining cup of tomatoes and cook a further 10 minutes', 'taste and adjust seasoning', 'serve in large soup plates and garnish with the mint']\""
      ]
     },
     "execution_count": 86,
     "metadata": {},
     "output_type": "execute_result"
    }
   ],
   "source": [
    "Recipes_Preffered['steps'][indices_of_largest_entries[9]]"
   ]
  },
  {
   "cell_type": "code",
   "execution_count": 87,
   "id": "efe7fcbf",
   "metadata": {},
   "outputs": [
    {
     "data": {
      "text/plain": [
       "\"['ground lamb', 'bacon', 'water', 'garlic', 'mint', 'parsley', 'paprika', 'cayenne', 'cumin', 'coriander', 'cinnamon', 'oregano', 'thyme', 'clove', 'cardamom', 'fresh ground black pepper', 'salt', 'olive oil', 'onion', 'carrot', 'lentil', 'diced tomato', 'chicken stock', 'bay leaf']\""
      ]
     },
     "execution_count": 87,
     "metadata": {},
     "output_type": "execute_result"
    }
   ],
   "source": [
    "Recipes_Preffered['ingredients'][indices_of_largest_entries[9]]"
   ]
  },
  {
   "cell_type": "code",
   "execution_count": null,
   "id": "fd6d4987",
   "metadata": {},
   "outputs": [],
   "source": []
  },
  {
   "cell_type": "code",
   "execution_count": 88,
   "id": "4d3cb666",
   "metadata": {},
   "outputs": [
    {
     "data": {
      "text/plain": [
       "'moroccan b stella'"
      ]
     },
     "execution_count": 88,
     "metadata": {},
     "output_type": "execute_result"
    }
   ],
   "source": [
    "Recipes_Preffered['name'][indices_of_largest_entries[8]]"
   ]
  },
  {
   "cell_type": "code",
   "execution_count": 89,
   "id": "6929bd8e",
   "metadata": {
    "scrolled": true
   },
   "outputs": [
    {
     "data": {
      "text/plain": [
       "\"['extra virgin olive oil', 'onion', 'chicken breast', 'parsley', 'cilantro', 'black pepper', 'saffron', 'ginger', 'nutmeg', 'clove', 'salt', 'water', 'egg', 'phyllo dough', 'butter', 'cinnamon', 'sugar', 'almond', 'granulated sugar', 'powdered sugar']\""
      ]
     },
     "execution_count": 89,
     "metadata": {},
     "output_type": "execute_result"
    }
   ],
   "source": [
    "Recipes_Preffered['ingredients'][indices_of_largest_entries[8]]"
   ]
  },
  {
   "cell_type": "code",
   "execution_count": 90,
   "id": "41efe502",
   "metadata": {},
   "outputs": [
    {
     "data": {
      "text/plain": [
       "'[\\'heat olive oil in pan , then add onions , chicken pieces , parsley , cilantro , black pepper , saffron , ginger , cinnamon , nutmeg , clove , and salt\\', \\'stir well and add the 2 cups of water\\', \\'cover with a lid and cook for 20 minutes\\', \\'remove the chicken from pan and set aside\\', \\'allow the sauce to cool slightly then add the beaten eggs to the sauce in the pan\\', \"cook the eggs with the sauce stirring continually so eggs won\\'t stick\", \\'when eggs are cooked , remove the pan from the heat and drain the eggs well in a colander\\', \\'set he eggs aside to cool\\', \\'open the phyllo and cover with a damp towel so it will not dry out\\', \\'take an 8-10 inch round baking pan / dish and cover generously with butter\\', \\'very gently , spread 5 sheets of phyllo dough alternately criss-cross over the pan , leaving some phyllo dough draped around the edges of the pan\\', \\'add another sheet of phyllo crunched in the middle of the pan\\', \\'mix together the 1 / 2 teaspoon cinnamon & 1 / 2 teaspoon sugar in a small bowl\\', \\'pour some of the cinnamon sugar all around the phyllo\\', \\'then , add 1 / 2 of the roasted crushed almonds\\', \\'cover with 3 more layers of phyllo and pour on 1 / 2 of the eggs with half of the chicken\\', \\'cover again with 3 layers of phyllo and sprinkle with the remaining cinnamon sugar and almonds\\', \\'cover with 3 layers of phyllo and pour on the rest of the eggs and the chicken\\', \\'cover with 2 layers of crunched phyllo and close the draping edges very gently like a rose , without pushing , it needs to be very fluffy\\', \\'pour the melted butter over the phyllo and bake in a preheated 350 degree oven for about 10 to 15 minutes , until golden brown\\', \\'turn the pan upside down onto a large platter\\', \\'mix together remaining cinnamon and sugar\\', \\'garnish with powdered sugar and make a design with the mixture of cinnamon and sugar if desired\\', \\'serve hot\\']'"
      ]
     },
     "execution_count": 90,
     "metadata": {},
     "output_type": "execute_result"
    }
   ],
   "source": [
    "Recipes_Preffered['steps'][indices_of_largest_entries[8]]"
   ]
  },
  {
   "cell_type": "code",
   "execution_count": null,
   "id": "352a4b5f",
   "metadata": {},
   "outputs": [],
   "source": []
  },
  {
   "cell_type": "code",
   "execution_count": 91,
   "id": "68b23833",
   "metadata": {},
   "outputs": [
    {
     "data": {
      "text/plain": [
       "'copycat tgi friday s lemon chicken scaloppine'"
      ]
     },
     "execution_count": 91,
     "metadata": {},
     "output_type": "execute_result"
    }
   ],
   "source": [
    "Recipes_Preffered['name'][indices_of_largest_entries[7]]"
   ]
  },
  {
   "cell_type": "code",
   "execution_count": 92,
   "id": "75240fc4",
   "metadata": {
    "scrolled": true
   },
   "outputs": [
    {
     "data": {
      "text/plain": [
       "\"['chicken breast', 'olive oil', 'sliced mushroom', 'lemon', 'heavy whipping cream', 'artichoke', 'parsley', 'angel hair pasta', 'pancetta', 'caper', 'fresh lemon juice', 'chabli', 'butter', 'whipping cream', 'thyme', 'salt', 'pepper']\""
      ]
     },
     "execution_count": 92,
     "metadata": {},
     "output_type": "execute_result"
    }
   ],
   "source": [
    "Recipes_Preffered['ingredients'][indices_of_largest_entries[7]]"
   ]
  },
  {
   "cell_type": "code",
   "execution_count": 93,
   "id": "641f4a08",
   "metadata": {},
   "outputs": [
    {
     "data": {
      "text/plain": [
       "\"['for the chicken: heat a saut pan over medium heat', 'add oil and heat', 'add chicken pieces to the saut pan and saut on each side for one minute', 'add the sliced mushrooms to the saut pan and saut with the chicken for an additional minute', 'when the mushrooms are cooked , squeeze the juice from the lemons into the saut pan and coat the chicken with the juice', 'add the cream to the pan and stir to incorporate', 'add the lemon sauce and stir to incorporate- do not return to heat / flame !', 'for the lemon sauce: boil the chablis to reduce to 2 cups', 'add the lemon juice and butter and melt slowly', 'add the whipping cream and simmer on low heat until thickened', 'add the spices and cool to room temperature', 'to serve: in a large bowl , twirl the pasta into a nest', 'sprinkle the chicken pieces on the pasta and pour the remaining contents of the pan on and around the chicken', 'sprinkle the artichokes , pancetta and capers over the entire dish', 'garnish with chopped parsley']\""
      ]
     },
     "execution_count": 93,
     "metadata": {},
     "output_type": "execute_result"
    }
   ],
   "source": [
    "Recipes_Preffered['steps'][indices_of_largest_entries[7]]"
   ]
  },
  {
   "cell_type": "code",
   "execution_count": null,
   "id": "c9e08a7e",
   "metadata": {},
   "outputs": [],
   "source": []
  },
  {
   "cell_type": "code",
   "execution_count": null,
   "id": "8cbbf023",
   "metadata": {},
   "outputs": [],
   "source": []
  }
 ],
 "metadata": {
  "kernelspec": {
   "display_name": "Python 3 (ipykernel)",
   "language": "python",
   "name": "python3"
  },
  "language_info": {
   "codemirror_mode": {
    "name": "ipython",
    "version": 3
   },
   "file_extension": ".py",
   "mimetype": "text/x-python",
   "name": "python",
   "nbconvert_exporter": "python",
   "pygments_lexer": "ipython3",
   "version": "3.11.7"
  }
 },
 "nbformat": 4,
 "nbformat_minor": 5
}
