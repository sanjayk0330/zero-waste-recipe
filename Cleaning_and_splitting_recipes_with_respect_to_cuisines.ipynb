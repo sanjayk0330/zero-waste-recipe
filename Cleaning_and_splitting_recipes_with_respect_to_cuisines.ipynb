{
 "cells": [
  {
   "cell_type": "code",
   "execution_count": 29,
   "id": "c0129cf9",
   "metadata": {},
   "outputs": [],
   "source": [
    "import pandas as pd\n",
    "import ast"
   ]
  },
  {
   "cell_type": "markdown",
   "id": "5ebdc515",
   "metadata": {},
   "source": [
    "We will first read the csv file titled RAW_recipes."
   ]
  },
  {
   "cell_type": "code",
   "execution_count": 30,
   "id": "4bd565d3",
   "metadata": {},
   "outputs": [],
   "source": [
    "RAW_recipes=pd.read_csv('RAW_recipes.csv')"
   ]
  },
  {
   "cell_type": "code",
   "execution_count": 31,
   "id": "18eaeb90",
   "metadata": {
    "scrolled": true
   },
   "outputs": [
    {
     "data": {
      "text/html": [
       "<div>\n",
       "<style scoped>\n",
       "    .dataframe tbody tr th:only-of-type {\n",
       "        vertical-align: middle;\n",
       "    }\n",
       "\n",
       "    .dataframe tbody tr th {\n",
       "        vertical-align: top;\n",
       "    }\n",
       "\n",
       "    .dataframe thead th {\n",
       "        text-align: right;\n",
       "    }\n",
       "</style>\n",
       "<table border=\"1\" class=\"dataframe\">\n",
       "  <thead>\n",
       "    <tr style=\"text-align: right;\">\n",
       "      <th></th>\n",
       "      <th>name</th>\n",
       "      <th>id</th>\n",
       "      <th>minutes</th>\n",
       "      <th>contributor_id</th>\n",
       "      <th>submitted</th>\n",
       "      <th>tags</th>\n",
       "      <th>nutrition</th>\n",
       "      <th>n_steps</th>\n",
       "      <th>steps</th>\n",
       "      <th>description</th>\n",
       "      <th>ingredients</th>\n",
       "      <th>n_ingredients</th>\n",
       "    </tr>\n",
       "  </thead>\n",
       "  <tbody>\n",
       "    <tr>\n",
       "      <th>0</th>\n",
       "      <td>arriba   baked winter squash mexican style</td>\n",
       "      <td>137739</td>\n",
       "      <td>55</td>\n",
       "      <td>47892</td>\n",
       "      <td>2005-09-16</td>\n",
       "      <td>['60-minutes-or-less', 'time-to-make', 'course...</td>\n",
       "      <td>[51.5, 0.0, 13.0, 0.0, 2.0, 0.0, 4.0]</td>\n",
       "      <td>11</td>\n",
       "      <td>['make a choice and proceed with recipe', 'dep...</td>\n",
       "      <td>autumn is my favorite time of year to cook! th...</td>\n",
       "      <td>['winter squash', 'mexican seasoning', 'mixed ...</td>\n",
       "      <td>7</td>\n",
       "    </tr>\n",
       "    <tr>\n",
       "      <th>1</th>\n",
       "      <td>a bit different  breakfast pizza</td>\n",
       "      <td>31490</td>\n",
       "      <td>30</td>\n",
       "      <td>26278</td>\n",
       "      <td>2002-06-17</td>\n",
       "      <td>['30-minutes-or-less', 'time-to-make', 'course...</td>\n",
       "      <td>[173.4, 18.0, 0.0, 17.0, 22.0, 35.0, 1.0]</td>\n",
       "      <td>9</td>\n",
       "      <td>['preheat oven to 425 degrees f', 'press dough...</td>\n",
       "      <td>this recipe calls for the crust to be prebaked...</td>\n",
       "      <td>['prepared pizza crust', 'sausage patty', 'egg...</td>\n",
       "      <td>6</td>\n",
       "    </tr>\n",
       "    <tr>\n",
       "      <th>2</th>\n",
       "      <td>all in the kitchen  chili</td>\n",
       "      <td>112140</td>\n",
       "      <td>130</td>\n",
       "      <td>196586</td>\n",
       "      <td>2005-02-25</td>\n",
       "      <td>['time-to-make', 'course', 'preparation', 'mai...</td>\n",
       "      <td>[269.8, 22.0, 32.0, 48.0, 39.0, 27.0, 5.0]</td>\n",
       "      <td>6</td>\n",
       "      <td>['brown ground beef in large pot', 'add choppe...</td>\n",
       "      <td>this modified version of 'mom's' chili was a h...</td>\n",
       "      <td>['ground beef', 'yellow onions', 'diced tomato...</td>\n",
       "      <td>13</td>\n",
       "    </tr>\n",
       "    <tr>\n",
       "      <th>3</th>\n",
       "      <td>alouette  potatoes</td>\n",
       "      <td>59389</td>\n",
       "      <td>45</td>\n",
       "      <td>68585</td>\n",
       "      <td>2003-04-14</td>\n",
       "      <td>['60-minutes-or-less', 'time-to-make', 'course...</td>\n",
       "      <td>[368.1, 17.0, 10.0, 2.0, 14.0, 8.0, 20.0]</td>\n",
       "      <td>11</td>\n",
       "      <td>['place potatoes in a large pot of lightly sal...</td>\n",
       "      <td>this is a super easy, great tasting, make ahea...</td>\n",
       "      <td>['spreadable cheese with garlic and herbs', 'n...</td>\n",
       "      <td>11</td>\n",
       "    </tr>\n",
       "    <tr>\n",
       "      <th>4</th>\n",
       "      <td>amish  tomato ketchup  for canning</td>\n",
       "      <td>44061</td>\n",
       "      <td>190</td>\n",
       "      <td>41706</td>\n",
       "      <td>2002-10-25</td>\n",
       "      <td>['weeknight', 'time-to-make', 'course', 'main-...</td>\n",
       "      <td>[352.9, 1.0, 337.0, 23.0, 3.0, 0.0, 28.0]</td>\n",
       "      <td>5</td>\n",
       "      <td>['mix all ingredients&amp; boil for 2 1 / 2 hours ...</td>\n",
       "      <td>my dh's amish mother raised him on this recipe...</td>\n",
       "      <td>['tomato juice', 'apple cider vinegar', 'sugar...</td>\n",
       "      <td>8</td>\n",
       "    </tr>\n",
       "  </tbody>\n",
       "</table>\n",
       "</div>"
      ],
      "text/plain": [
       "                                         name      id  minutes  \\\n",
       "0  arriba   baked winter squash mexican style  137739       55   \n",
       "1            a bit different  breakfast pizza   31490       30   \n",
       "2                   all in the kitchen  chili  112140      130   \n",
       "3                          alouette  potatoes   59389       45   \n",
       "4          amish  tomato ketchup  for canning   44061      190   \n",
       "\n",
       "   contributor_id   submitted  \\\n",
       "0           47892  2005-09-16   \n",
       "1           26278  2002-06-17   \n",
       "2          196586  2005-02-25   \n",
       "3           68585  2003-04-14   \n",
       "4           41706  2002-10-25   \n",
       "\n",
       "                                                tags  \\\n",
       "0  ['60-minutes-or-less', 'time-to-make', 'course...   \n",
       "1  ['30-minutes-or-less', 'time-to-make', 'course...   \n",
       "2  ['time-to-make', 'course', 'preparation', 'mai...   \n",
       "3  ['60-minutes-or-less', 'time-to-make', 'course...   \n",
       "4  ['weeknight', 'time-to-make', 'course', 'main-...   \n",
       "\n",
       "                                    nutrition  n_steps  \\\n",
       "0       [51.5, 0.0, 13.0, 0.0, 2.0, 0.0, 4.0]       11   \n",
       "1   [173.4, 18.0, 0.0, 17.0, 22.0, 35.0, 1.0]        9   \n",
       "2  [269.8, 22.0, 32.0, 48.0, 39.0, 27.0, 5.0]        6   \n",
       "3   [368.1, 17.0, 10.0, 2.0, 14.0, 8.0, 20.0]       11   \n",
       "4   [352.9, 1.0, 337.0, 23.0, 3.0, 0.0, 28.0]        5   \n",
       "\n",
       "                                               steps  \\\n",
       "0  ['make a choice and proceed with recipe', 'dep...   \n",
       "1  ['preheat oven to 425 degrees f', 'press dough...   \n",
       "2  ['brown ground beef in large pot', 'add choppe...   \n",
       "3  ['place potatoes in a large pot of lightly sal...   \n",
       "4  ['mix all ingredients& boil for 2 1 / 2 hours ...   \n",
       "\n",
       "                                         description  \\\n",
       "0  autumn is my favorite time of year to cook! th...   \n",
       "1  this recipe calls for the crust to be prebaked...   \n",
       "2  this modified version of 'mom's' chili was a h...   \n",
       "3  this is a super easy, great tasting, make ahea...   \n",
       "4  my dh's amish mother raised him on this recipe...   \n",
       "\n",
       "                                         ingredients  n_ingredients  \n",
       "0  ['winter squash', 'mexican seasoning', 'mixed ...              7  \n",
       "1  ['prepared pizza crust', 'sausage patty', 'egg...              6  \n",
       "2  ['ground beef', 'yellow onions', 'diced tomato...             13  \n",
       "3  ['spreadable cheese with garlic and herbs', 'n...             11  \n",
       "4  ['tomato juice', 'apple cider vinegar', 'sugar...              8  "
      ]
     },
     "execution_count": 31,
     "metadata": {},
     "output_type": "execute_result"
    }
   ],
   "source": [
    "RAW_recipes.head()"
   ]
  },
  {
   "cell_type": "code",
   "execution_count": 32,
   "id": "91d07f76",
   "metadata": {},
   "outputs": [],
   "source": [
    "RAW_recipes['tags'] = RAW_recipes['tags'].apply(ast.literal_eval)\n",
    "RAW_recipes['steps'] = RAW_recipes['steps'].apply(ast.literal_eval)\n",
    "RAW_recipes['ingredients'] = RAW_recipes['ingredients'].apply(ast.literal_eval)"
   ]
  },
  {
   "cell_type": "code",
   "execution_count": 33,
   "id": "fef68bbe",
   "metadata": {},
   "outputs": [],
   "source": [
    "#!pip uninstall inflect typeguard typing-extensions -y\n",
    "#!pip install typing-extensions==4.7.1\n",
    "#!pip install inflect==5.3.0"
   ]
  },
  {
   "cell_type": "code",
   "execution_count": 34,
   "id": "10ad144b",
   "metadata": {},
   "outputs": [],
   "source": [
    "import inflect\n",
    "# Initialize the inflect engine\n",
    "p = inflect.engine()"
   ]
  },
  {
   "cell_type": "code",
   "execution_count": 35,
   "id": "994d9103",
   "metadata": {},
   "outputs": [],
   "source": [
    "from itertools import chain\n",
    "all_ingredients_list = list(set(chain.from_iterable(RAW_recipes['ingredients'])))"
   ]
  },
  {
   "cell_type": "code",
   "execution_count": 36,
   "id": "c33b4460",
   "metadata": {},
   "outputs": [],
   "source": [
    "A=len(all_ingredients_list)"
   ]
  },
  {
   "cell_type": "code",
   "execution_count": 37,
   "id": "78513e3a",
   "metadata": {},
   "outputs": [],
   "source": [
    "# Define a function to convert individual ingredient strings to singular using inflect\n",
    "def to_singular(ingredient):\n",
    "    return p.singular_noun(ingredient) or ingredient\n",
    "\n",
    "# Define a function to process a list of ingredients\n",
    "def process_ingredient_list(ingredient_list):\n",
    "    return [to_singular(ingredient) for ingredient in ingredient_list]"
   ]
  },
  {
   "cell_type": "code",
   "execution_count": 38,
   "id": "f12fc29c",
   "metadata": {},
   "outputs": [],
   "source": [
    "# Apply the function to the ingredients column\n",
    "RAW_recipes['ingredients'] = RAW_recipes['ingredients'].apply(process_ingredient_list)"
   ]
  },
  {
   "cell_type": "code",
   "execution_count": 39,
   "id": "258622f5",
   "metadata": {},
   "outputs": [],
   "source": [
    "all_ingredients_list = list(set(chain.from_iterable(RAW_recipes['ingredients'])))"
   ]
  },
  {
   "cell_type": "code",
   "execution_count": 40,
   "id": "6091633e",
   "metadata": {},
   "outputs": [],
   "source": [
    "B=len(all_ingredients_list)"
   ]
  },
  {
   "cell_type": "code",
   "execution_count": 41,
   "id": "00c33d3d",
   "metadata": {},
   "outputs": [
    {
     "name": "stdout",
     "output_type": "stream",
     "text": [
      "1210\n"
     ]
    }
   ],
   "source": [
    "C=A-B\n",
    "print(C)"
   ]
  },
  {
   "cell_type": "code",
   "execution_count": 42,
   "id": "c405e0ed",
   "metadata": {},
   "outputs": [],
   "source": [
    "# Save the list of ingredients to a text file\n",
    "with open('all_ingredients_list.txt', 'w') as f:\n",
    "    for ingredient in all_ingredients_list:\n",
    "        f.write(f\"{ingredient}\\n\")"
   ]
  },
  {
   "cell_type": "markdown",
   "id": "f10d62ad",
   "metadata": {},
   "source": [
    "We will write a function that will help us to read the \"tags\" column of RAW_recipes and look for certain cuisine related keywords. The following is keyword for the 100 best cuisines in the world given by Taste Atlas."
   ]
  },
  {
   "cell_type": "code",
   "execution_count": 14,
   "id": "0ed00cb7",
   "metadata": {},
   "outputs": [],
   "source": [
    "world_cuisines = [\n",
    "    'italian',\n",
    "    'japanese',\n",
    "    'greek',\n",
    "    'portuguese',\n",
    "    'chinese',\n",
    "    'indonesian',\n",
    "    'mexican',\n",
    "    'french',\n",
    "    'spanish',\n",
    "    'peruvian',\n",
    "    'indian',\n",
    "    'brazilian',\n",
    "    'polish',\n",
    "    'argentinian',\n",
    "    'turkish',\n",
    "    'states',\n",
    "    'thai',\n",
    "    'korean',\n",
    "    'croatian',\n",
    "    'serbian',\n",
    "    'hungarian',\n",
    "    'vietnamese',\n",
    "    'iranian',\n",
    "    'chilean',\n",
    "    'lebanese',\n",
    "    'georgian',\n",
    "    'bosnian',\n",
    "    'colombian',\n",
    "    'romanian',\n",
    "    'bulgarian',\n",
    "    'malaysian',\n",
    "    'german',\n",
    "    'filipino',\n",
    "    'belgian',\n",
    "    'czech',\n",
    "    'austrian',\n",
    "    'swiss',\n",
    "    'lithuanian',\n",
    "    'english',\n",
    "    'algerian',\n",
    "    'russian',\n",
    "    'slovak',\n",
    "    'canadian',\n",
    "    'swedish',\n",
    "    'dutch',\n",
    "    'moroccan',\n",
    "    'scottish',\n",
    "    'ecuadorian',\n",
    "    'danish',\n",
    "    'australian',\n",
    "    'egyptian',\n",
    "    'south-african',\n",
    "    'ukrainian',\n",
    "    'syrian',\n",
    "    'irish',\n",
    "    'singaporean',\n",
    "    'pakistani',\n",
    "    'puerto',\n",
    "    'norwegian',\n",
    "    'bolivian',\n",
    "    'macedonian',\n",
    "    'israeli',\n",
    "    'palestinian',\n",
    "    'slovenian',\n",
    "    'finnish',\n",
    "    'tunisian',\n",
    "    'haitian',\n",
    "    'jamaican',\n",
    "    'armenian',\n",
    "    'venezuelan',\n",
    "    'belarusian',\n",
    "    'moldovan',\n",
    "    'lankan',\n",
    "    'jordanian',\n",
    "    'cuban',\n",
    "    'uzbekistani',\n",
    "    'azerbaijani',\n",
    "    'taiwanese',\n",
    "    'uruguayan',\n",
    "    'montenegrin',\n",
    "    'ethiopian',\n",
    "    'iraqi',\n",
    "    'qatari',\n",
    "    'trinidadian',\n",
    "    'libyan',\n",
    "    'lao',\n",
    "    'barbadian',\n",
    "    'cypriot',\n",
    "    'bengali',\n",
    "    'kazakhstani',\n",
    "    'albanian',\n",
    "    'kyrgyzstani',\n",
    "    'burmese',\n",
    "    'zealand',\n",
    "    'saudi',\n",
    "    'irish',\n",
    "    'bahamian',\n",
    "    'dominican',\n",
    "    'welsh',\n",
    "    'ghanaian'\n",
    "]"
   ]
  },
  {
   "cell_type": "markdown",
   "id": "bfca2325",
   "metadata": {},
   "source": [
    "We will write a function that searches entries of \"tags\" column of the RAW_recipes for the keywords above. If there is a string which has the keyowrds above we return them."
   ]
  },
  {
   "cell_type": "code",
   "execution_count": 15,
   "id": "61c5b6d1",
   "metadata": {},
   "outputs": [],
   "source": [
    "def extract_cuisine_tags(tags):\n",
    "    cuisine_related_tags = []\n",
    "    for tag in tags:\n",
    "        for cuisine in world_cuisines:\n",
    "            if cuisine in tag:\n",
    "                cuisine_related_tags.append(tag)\n",
    "    return cuisine_related_tags\n",
    "\n",
    "# Create a new column in the RAW_recipes with the extracted cuisine-related tags\n",
    "RAW_recipes['Cuisine_Tags'] = RAW_recipes['tags'].apply(extract_cuisine_tags)"
   ]
  },
  {
   "cell_type": "code",
   "execution_count": 16,
   "id": "b3c16228",
   "metadata": {},
   "outputs": [
    {
     "data": {
      "text/html": [
       "<div>\n",
       "<style scoped>\n",
       "    .dataframe tbody tr th:only-of-type {\n",
       "        vertical-align: middle;\n",
       "    }\n",
       "\n",
       "    .dataframe tbody tr th {\n",
       "        vertical-align: top;\n",
       "    }\n",
       "\n",
       "    .dataframe thead th {\n",
       "        text-align: right;\n",
       "    }\n",
       "</style>\n",
       "<table border=\"1\" class=\"dataframe\">\n",
       "  <thead>\n",
       "    <tr style=\"text-align: right;\">\n",
       "      <th></th>\n",
       "      <th>name</th>\n",
       "      <th>id</th>\n",
       "      <th>minutes</th>\n",
       "      <th>contributor_id</th>\n",
       "      <th>submitted</th>\n",
       "      <th>tags</th>\n",
       "      <th>nutrition</th>\n",
       "      <th>n_steps</th>\n",
       "      <th>steps</th>\n",
       "      <th>description</th>\n",
       "      <th>ingredients</th>\n",
       "      <th>n_ingredients</th>\n",
       "      <th>Cuisine_Tags</th>\n",
       "    </tr>\n",
       "  </thead>\n",
       "  <tbody>\n",
       "    <tr>\n",
       "      <th>0</th>\n",
       "      <td>arriba   baked winter squash mexican style</td>\n",
       "      <td>137739</td>\n",
       "      <td>55</td>\n",
       "      <td>47892</td>\n",
       "      <td>2005-09-16</td>\n",
       "      <td>[60-minutes-or-less, time-to-make, course, mai...</td>\n",
       "      <td>[51.5, 0.0, 13.0, 0.0, 2.0, 0.0, 4.0]</td>\n",
       "      <td>11</td>\n",
       "      <td>[make a choice and proceed with recipe, depend...</td>\n",
       "      <td>autumn is my favorite time of year to cook! th...</td>\n",
       "      <td>[winter squash, mexican seasoning, mixed spice...</td>\n",
       "      <td>7</td>\n",
       "      <td>[mexican]</td>\n",
       "    </tr>\n",
       "    <tr>\n",
       "      <th>1</th>\n",
       "      <td>a bit different  breakfast pizza</td>\n",
       "      <td>31490</td>\n",
       "      <td>30</td>\n",
       "      <td>26278</td>\n",
       "      <td>2002-06-17</td>\n",
       "      <td>[30-minutes-or-less, time-to-make, course, mai...</td>\n",
       "      <td>[173.4, 18.0, 0.0, 17.0, 22.0, 35.0, 1.0]</td>\n",
       "      <td>9</td>\n",
       "      <td>[preheat oven to 425 degrees f, press dough in...</td>\n",
       "      <td>this recipe calls for the crust to be prebaked...</td>\n",
       "      <td>[prepared pizza crust, sausage patty, egg, mil...</td>\n",
       "      <td>6</td>\n",
       "      <td>[northeastern-united-states]</td>\n",
       "    </tr>\n",
       "    <tr>\n",
       "      <th>2</th>\n",
       "      <td>all in the kitchen  chili</td>\n",
       "      <td>112140</td>\n",
       "      <td>130</td>\n",
       "      <td>196586</td>\n",
       "      <td>2005-02-25</td>\n",
       "      <td>[time-to-make, course, preparation, main-dish,...</td>\n",
       "      <td>[269.8, 22.0, 32.0, 48.0, 39.0, 27.0, 5.0]</td>\n",
       "      <td>6</td>\n",
       "      <td>[brown ground beef in large pot, add chopped o...</td>\n",
       "      <td>this modified version of 'mom's' chili was a h...</td>\n",
       "      <td>[ground beef, yellow onion, diced tomato, toma...</td>\n",
       "      <td>13</td>\n",
       "      <td>[]</td>\n",
       "    </tr>\n",
       "    <tr>\n",
       "      <th>3</th>\n",
       "      <td>alouette  potatoes</td>\n",
       "      <td>59389</td>\n",
       "      <td>45</td>\n",
       "      <td>68585</td>\n",
       "      <td>2003-04-14</td>\n",
       "      <td>[60-minutes-or-less, time-to-make, course, mai...</td>\n",
       "      <td>[368.1, 17.0, 10.0, 2.0, 14.0, 8.0, 20.0]</td>\n",
       "      <td>11</td>\n",
       "      <td>[place potatoes in a large pot of lightly salt...</td>\n",
       "      <td>this is a super easy, great tasting, make ahea...</td>\n",
       "      <td>[spreadable cheese with garlic and herbs, new ...</td>\n",
       "      <td>11</td>\n",
       "      <td>[]</td>\n",
       "    </tr>\n",
       "    <tr>\n",
       "      <th>4</th>\n",
       "      <td>amish  tomato ketchup  for canning</td>\n",
       "      <td>44061</td>\n",
       "      <td>190</td>\n",
       "      <td>41706</td>\n",
       "      <td>2002-10-25</td>\n",
       "      <td>[weeknight, time-to-make, course, main-ingredi...</td>\n",
       "      <td>[352.9, 1.0, 337.0, 23.0, 3.0, 0.0, 28.0]</td>\n",
       "      <td>5</td>\n",
       "      <td>[mix all ingredients&amp; boil for 2 1 / 2 hours ,...</td>\n",
       "      <td>my dh's amish mother raised him on this recipe...</td>\n",
       "      <td>[tomato juice, apple cider vinegar, sugar, sal...</td>\n",
       "      <td>8</td>\n",
       "      <td>[northeastern-united-states]</td>\n",
       "    </tr>\n",
       "  </tbody>\n",
       "</table>\n",
       "</div>"
      ],
      "text/plain": [
       "                                         name      id  minutes  \\\n",
       "0  arriba   baked winter squash mexican style  137739       55   \n",
       "1            a bit different  breakfast pizza   31490       30   \n",
       "2                   all in the kitchen  chili  112140      130   \n",
       "3                          alouette  potatoes   59389       45   \n",
       "4          amish  tomato ketchup  for canning   44061      190   \n",
       "\n",
       "   contributor_id   submitted  \\\n",
       "0           47892  2005-09-16   \n",
       "1           26278  2002-06-17   \n",
       "2          196586  2005-02-25   \n",
       "3           68585  2003-04-14   \n",
       "4           41706  2002-10-25   \n",
       "\n",
       "                                                tags  \\\n",
       "0  [60-minutes-or-less, time-to-make, course, mai...   \n",
       "1  [30-minutes-or-less, time-to-make, course, mai...   \n",
       "2  [time-to-make, course, preparation, main-dish,...   \n",
       "3  [60-minutes-or-less, time-to-make, course, mai...   \n",
       "4  [weeknight, time-to-make, course, main-ingredi...   \n",
       "\n",
       "                                    nutrition  n_steps  \\\n",
       "0       [51.5, 0.0, 13.0, 0.0, 2.0, 0.0, 4.0]       11   \n",
       "1   [173.4, 18.0, 0.0, 17.0, 22.0, 35.0, 1.0]        9   \n",
       "2  [269.8, 22.0, 32.0, 48.0, 39.0, 27.0, 5.0]        6   \n",
       "3   [368.1, 17.0, 10.0, 2.0, 14.0, 8.0, 20.0]       11   \n",
       "4   [352.9, 1.0, 337.0, 23.0, 3.0, 0.0, 28.0]        5   \n",
       "\n",
       "                                               steps  \\\n",
       "0  [make a choice and proceed with recipe, depend...   \n",
       "1  [preheat oven to 425 degrees f, press dough in...   \n",
       "2  [brown ground beef in large pot, add chopped o...   \n",
       "3  [place potatoes in a large pot of lightly salt...   \n",
       "4  [mix all ingredients& boil for 2 1 / 2 hours ,...   \n",
       "\n",
       "                                         description  \\\n",
       "0  autumn is my favorite time of year to cook! th...   \n",
       "1  this recipe calls for the crust to be prebaked...   \n",
       "2  this modified version of 'mom's' chili was a h...   \n",
       "3  this is a super easy, great tasting, make ahea...   \n",
       "4  my dh's amish mother raised him on this recipe...   \n",
       "\n",
       "                                         ingredients  n_ingredients  \\\n",
       "0  [winter squash, mexican seasoning, mixed spice...              7   \n",
       "1  [prepared pizza crust, sausage patty, egg, mil...              6   \n",
       "2  [ground beef, yellow onion, diced tomato, toma...             13   \n",
       "3  [spreadable cheese with garlic and herbs, new ...             11   \n",
       "4  [tomato juice, apple cider vinegar, sugar, sal...              8   \n",
       "\n",
       "                   Cuisine_Tags  \n",
       "0                     [mexican]  \n",
       "1  [northeastern-united-states]  \n",
       "2                            []  \n",
       "3                            []  \n",
       "4  [northeastern-united-states]  "
      ]
     },
     "execution_count": 16,
     "metadata": {},
     "output_type": "execute_result"
    }
   ],
   "source": [
    "RAW_recipes.head()"
   ]
  },
  {
   "cell_type": "markdown",
   "id": "04af637d",
   "metadata": {},
   "source": [
    "Now we will try to understand how many recipies are there with a Cuisine Tag we created."
   ]
  },
  {
   "cell_type": "code",
   "execution_count": 17,
   "id": "4b20eb51",
   "metadata": {},
   "outputs": [
    {
     "name": "stdout",
     "output_type": "stream",
     "text": [
      "[]                                                176104\n",
      "[italian]                                           6911\n",
      "[southern-united-states]                            6277\n",
      "[mexican]                                           5642\n",
      "[canadian]                                          3923\n",
      "                                                   ...  \n",
      "[russian, czech]                                       1\n",
      "[malaysian, chinese, vietnamese]                       1\n",
      "[southwestern-united-states, moroccan]                 1\n",
      "[brazilian, mexican, peruvian, venezuelan]             1\n",
      "[canadian, german, northeastern-united-states]         1\n",
      "Name: Cuisine_Tags, Length: 667, dtype: int64\n"
     ]
    }
   ],
   "source": [
    "# Count the occurrences of each category in the Cuisine_Tags column\n",
    "cuisine_category_counts = RAW_recipes['Cuisine_Tags'].value_counts()\n",
    "\n",
    "# Print the counts of all categories for reference\n",
    "print(cuisine_category_counts)"
   ]
  },
  {
   "cell_type": "markdown",
   "id": "da02fbc3",
   "metadata": {},
   "source": [
    "For the training purposes, we will clean the ones without a Cuisine Tag and the ones with more than a Cuisine Tag."
   ]
  },
  {
   "cell_type": "code",
   "execution_count": 18,
   "id": "0c947f4f",
   "metadata": {},
   "outputs": [],
   "source": [
    "# Get the indices of rows that do not have exactly one cuisine-related tag\n",
    "indices_no_cuisine_tags = RAW_recipes[RAW_recipes['Cuisine_Tags'].apply(lambda x: len(x) != 1)].index\n",
    "\n",
    "# Drop them\n",
    "RAW_recipes_with_one_cuisine = RAW_recipes.drop(indices_no_cuisine_tags).reset_index(drop=True)"
   ]
  },
  {
   "cell_type": "code",
   "execution_count": 19,
   "id": "9c7ba8c8",
   "metadata": {},
   "outputs": [
    {
     "name": "stdout",
     "output_type": "stream",
     "text": [
      "[italian]                       6911\n",
      "[southern-united-states]        6277\n",
      "[mexican]                       5642\n",
      "[canadian]                      3923\n",
      "[indian]                        2564\n",
      "[australian]                    2355\n",
      "[southwestern-united-states]    2194\n",
      "[greek]                         2165\n",
      "[chinese]                       1841\n",
      "[french]                        1813\n",
      "[northeastern-united-states]    1724\n",
      "[german]                        1186\n",
      "[english]                       1173\n",
      "[thai]                          1116\n",
      "[spanish]                        871\n",
      "[moroccan]                       839\n",
      "[japanese]                       768\n",
      "[new-zealand]                    405\n",
      "[scottish]                       381\n",
      "[swedish]                        340\n",
      "[russian]                        322\n",
      "[vietnamese]                     314\n",
      "[south-african]                  313\n",
      "[swiss]                          302\n",
      "[polish]                         299\n",
      "[portuguese]                     292\n",
      "[hungarian]                      263\n",
      "[brazilian]                      230\n",
      "[korean]                         229\n",
      "[danish]                         215\n",
      "[cuban]                          213\n",
      "[iranian-persian]                209\n",
      "[turkish]                        208\n",
      "[lebanese]                       199\n",
      "[dutch]                          199\n",
      "[filipino]                       194\n",
      "[indonesian]                     187\n",
      "[norwegian]                      174\n",
      "[egyptian]                       165\n",
      "[finnish]                        163\n",
      "[austrian]                       110\n",
      "[peruvian]                       108\n",
      "[czech]                          102\n",
      "[belgian]                        100\n",
      "[ethiopian]                       85\n",
      "[pakistani]                       82\n",
      "[puerto-rican]                    81\n",
      "[malaysian]                       77\n",
      "[welsh]                           72\n",
      "[chilean]                         67\n",
      "[iraqi]                           67\n",
      "[saudi-arabian]                   66\n",
      "[colombian]                       66\n",
      "[palestinian]                     53\n",
      "[venezuelan]                      38\n",
      "[libyan]                          17\n",
      "[laotian]                         15\n",
      "[georgian]                         9\n",
      "[chinese-new-year]                 6\n",
      "Name: Cuisine_Tags, dtype: int64\n"
     ]
    }
   ],
   "source": [
    "# Count the occurrences of each category in the Cuisine_Tags\n",
    "cusine_category_counts = RAW_recipes_with_one_cuisine['Cuisine_Tags'].value_counts()\n",
    "\n",
    "# Print the counts of all categories for reference\n",
    "print(cusine_category_counts)"
   ]
  },
  {
   "cell_type": "markdown",
   "id": "ced1fe63",
   "metadata": {},
   "source": [
    "There are 6 recipes with a tag \"chinese-new-year\". We will turn them into just \"chinese\"."
   ]
  },
  {
   "cell_type": "code",
   "execution_count": 20,
   "id": "d82f458b",
   "metadata": {},
   "outputs": [],
   "source": [
    "# Define a function to replace 'chinese-new-year' with 'chinese'\n",
    "def replace_chinese_new_year(tags):\n",
    "    return ['chinese' if tag == 'chinese-new-year' else tag for tag in tags]\n",
    "\n",
    "# Apply the function to the 'Cuisine_Tags' column\n",
    "RAW_recipes_with_one_cuisine['Cuisine_Tags'] = RAW_recipes_with_one_cuisine['Cuisine_Tags'].apply(replace_chinese_new_year)"
   ]
  },
  {
   "cell_type": "markdown",
   "id": "cefda4f9",
   "metadata": {},
   "source": [
    "Now we will check if everything went as we wanted."
   ]
  },
  {
   "cell_type": "code",
   "execution_count": 21,
   "id": "4999c771",
   "metadata": {},
   "outputs": [
    {
     "name": "stdout",
     "output_type": "stream",
     "text": [
      "[italian]                       6911\n",
      "[southern-united-states]        6277\n",
      "[mexican]                       5642\n",
      "[canadian]                      3923\n",
      "[indian]                        2564\n",
      "[australian]                    2355\n",
      "[southwestern-united-states]    2194\n",
      "[greek]                         2165\n",
      "[chinese]                       1847\n",
      "[french]                        1813\n",
      "[northeastern-united-states]    1724\n",
      "[german]                        1186\n",
      "[english]                       1173\n",
      "[thai]                          1116\n",
      "[spanish]                        871\n",
      "[moroccan]                       839\n",
      "[japanese]                       768\n",
      "[new-zealand]                    405\n",
      "[scottish]                       381\n",
      "[swedish]                        340\n",
      "[russian]                        322\n",
      "[vietnamese]                     314\n",
      "[south-african]                  313\n",
      "[swiss]                          302\n",
      "[polish]                         299\n",
      "[portuguese]                     292\n",
      "[hungarian]                      263\n",
      "[brazilian]                      230\n",
      "[korean]                         229\n",
      "[danish]                         215\n",
      "[cuban]                          213\n",
      "[iranian-persian]                209\n",
      "[turkish]                        208\n",
      "[lebanese]                       199\n",
      "[dutch]                          199\n",
      "[filipino]                       194\n",
      "[indonesian]                     187\n",
      "[norwegian]                      174\n",
      "[egyptian]                       165\n",
      "[finnish]                        163\n",
      "[austrian]                       110\n",
      "[peruvian]                       108\n",
      "[czech]                          102\n",
      "[belgian]                        100\n",
      "[ethiopian]                       85\n",
      "[pakistani]                       82\n",
      "[puerto-rican]                    81\n",
      "[malaysian]                       77\n",
      "[welsh]                           72\n",
      "[chilean]                         67\n",
      "[iraqi]                           67\n",
      "[saudi-arabian]                   66\n",
      "[colombian]                       66\n",
      "[palestinian]                     53\n",
      "[venezuelan]                      38\n",
      "[libyan]                          17\n",
      "[laotian]                         15\n",
      "[georgian]                         9\n",
      "Name: Cuisine_Tags, dtype: int64\n"
     ]
    }
   ],
   "source": [
    "# Count the occurrences of each category in the Time_Category column\n",
    "cusine_category_counts = RAW_recipes_with_one_cuisine['Cuisine_Tags'].value_counts()\n",
    "\n",
    "# Print the counts of all categories for reference\n",
    "print(cusine_category_counts)"
   ]
  },
  {
   "cell_type": "code",
   "execution_count": 22,
   "id": "100d613f",
   "metadata": {},
   "outputs": [
    {
     "data": {
      "text/plain": [
       "50399"
      ]
     },
     "execution_count": 22,
     "metadata": {},
     "output_type": "execute_result"
    }
   ],
   "source": [
    "len(RAW_recipes_with_one_cuisine)"
   ]
  },
  {
   "cell_type": "code",
   "execution_count": 23,
   "id": "4492f3c3",
   "metadata": {},
   "outputs": [
    {
     "data": {
      "text/plain": [
       "58"
      ]
     },
     "execution_count": 23,
     "metadata": {},
     "output_type": "execute_result"
    }
   ],
   "source": [
    "len(cusine_category_counts)"
   ]
  },
  {
   "cell_type": "markdown",
   "id": "3563a432",
   "metadata": {},
   "source": [
    "So, we have categorized 50399 recipes into 58 cuisine categories. We can use this data set as a training set for a model that predicts the cuisine for a given list of ingredients or a recipe."
   ]
  },
  {
   "cell_type": "code",
   "execution_count": 24,
   "id": "beb5cd81",
   "metadata": {},
   "outputs": [
    {
     "name": "stdout",
     "output_type": "stream",
     "text": [
      "RAW_recipes_with_one_cuisine DataFrame has been written to RAW_recipes_with_one_cuisine.csv\n"
     ]
    }
   ],
   "source": [
    "# Write the DataFrame to a CSV file\n",
    "RAW_recipes_with_one_cuisine.to_csv('RAW_recipes_with_one_cuisine.csv', index=False)\n",
    "\n",
    "# Verify the file creation by printing a message\n",
    "print(\"RAW_recipes_with_one_cuisine DataFrame has been written to RAW_recipes_with_one_cuisine.csv\")"
   ]
  },
  {
   "cell_type": "code",
   "execution_count": 25,
   "id": "366f8be5",
   "metadata": {},
   "outputs": [],
   "source": [
    "# Get the indices of rows that do not have exactly one cuisine-related tag\n",
    "indices_different_than_one_cuisine_tag= RAW_recipes[RAW_recipes['Cuisine_Tags'].apply(lambda x: len(x)==1)].index\n",
    "\n",
    "# Drop them\n",
    "RAW_recipes_without_one_cuisine = RAW_recipes.drop(indices_different_than_one_cuisine_tag).reset_index(drop=True)"
   ]
  },
  {
   "cell_type": "code",
   "execution_count": 26,
   "id": "859060c1",
   "metadata": {},
   "outputs": [
    {
     "data": {
      "text/plain": [
       "True"
      ]
     },
     "execution_count": 26,
     "metadata": {},
     "output_type": "execute_result"
    }
   ],
   "source": [
    "len(RAW_recipes_without_one_cuisine)+len(RAW_recipes_with_one_cuisine)==len(RAW_recipes)"
   ]
  },
  {
   "cell_type": "code",
   "execution_count": 27,
   "id": "1e398171",
   "metadata": {},
   "outputs": [
    {
     "name": "stdout",
     "output_type": "stream",
     "text": [
      "RAW_recipes_without_one_cuisine DataFrame has been written to RAW_recipes_without_one_cuisine.csv\n"
     ]
    }
   ],
   "source": [
    "# Write the DataFrame to a CSV file\n",
    "RAW_recipes_without_one_cuisine.to_csv('RAW_recipes_without_one_cuisine.csv', index=False)\n",
    "\n",
    "# Verify the file creation by printing a message\n",
    "print(\"RAW_recipes_without_one_cuisine DataFrame has been written to RAW_recipes_without_one_cuisine.csv\")"
   ]
  }
 ],
 "metadata": {
  "kernelspec": {
   "display_name": "Python 3 (ipykernel)",
   "language": "python",
   "name": "python3"
  },
  "language_info": {
   "codemirror_mode": {
    "name": "ipython",
    "version": 3
   },
   "file_extension": ".py",
   "mimetype": "text/x-python",
   "name": "python",
   "nbconvert_exporter": "python",
   "pygments_lexer": "ipython3",
   "version": "3.11.7"
  }
 },
 "nbformat": 4,
 "nbformat_minor": 5
}
