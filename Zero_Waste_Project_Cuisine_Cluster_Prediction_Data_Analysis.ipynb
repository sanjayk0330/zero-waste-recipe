{
 "cells": [
  {
   "cell_type": "markdown",
   "id": "31113d25",
   "metadata": {},
   "source": [
    "## Necessary Libraries"
   ]
  },
  {
   "cell_type": "code",
   "execution_count": 15,
   "id": "c5d5596a",
   "metadata": {},
   "outputs": [],
   "source": [
    "import pandas as pd\n",
    "import numpy as np\n",
    "from sklearn.feature_extraction.text import TfidfVectorizer\n",
    "from sklearn.model_selection import train_test_split\n",
    "from sklearn.externals import joblib\n",
    "\n",
    "\n",
    "from sklearn.ensemble import RandomForestClassifier\n",
    "from sklearn.neighbors import KNeighborsClassifier\n",
    "from sklearn.discriminant_analysis import LinearDiscriminantAnalysis\n",
    "from sklearn.discriminant_analysis import QuadraticDiscriminantAnalysis\n",
    "from sklearn.naive_bayes import GaussianNB\n",
    "from sklearn.linear_model import LogisticRegression\n",
    "from sklearn.svm import LinearSVC\n",
    "from sklearn.svm import SVC\n",
    "\n",
    "from sklearn.model_selection import KFold\n",
    "\n",
    "from sklearn.metrics import classification_report\n",
    "from sklearn.metrics import accuracy_score\n",
    "from sklearn.metrics import mean_squared_error\n",
    "\n",
    "import matplotlib.pyplot as plt\n",
    "from sklearn.decomposition import PCA\n",
    "import json\n",
    "\n",
    "# ingnore future warnings\n",
    "import warnings\n",
    "warnings.simplefilter(action='ignore', category=FutureWarning)\n"
   ]
  },
  {
   "cell_type": "markdown",
   "id": "1e062609",
   "metadata": {},
   "source": [
    "## Load Data"
   ]
  },
  {
   "cell_type": "code",
   "execution_count": 16,
   "id": "4761c80a",
   "metadata": {},
   "outputs": [],
   "source": [
    "cuisine_df =pd.read_csv('RAW_recipes_with_one_cuisine.csv')"
   ]
  },
  {
   "cell_type": "code",
   "execution_count": 17,
   "id": "cb1d70fb",
   "metadata": {},
   "outputs": [
    {
     "data": {
      "text/html": [
       "<div>\n",
       "<style scoped>\n",
       "    .dataframe tbody tr th:only-of-type {\n",
       "        vertical-align: middle;\n",
       "    }\n",
       "\n",
       "    .dataframe tbody tr th {\n",
       "        vertical-align: top;\n",
       "    }\n",
       "\n",
       "    .dataframe thead th {\n",
       "        text-align: right;\n",
       "    }\n",
       "</style>\n",
       "<table border=\"1\" class=\"dataframe\">\n",
       "  <thead>\n",
       "    <tr style=\"text-align: right;\">\n",
       "      <th></th>\n",
       "      <th>name</th>\n",
       "      <th>id</th>\n",
       "      <th>minutes</th>\n",
       "      <th>contributor_id</th>\n",
       "      <th>submitted</th>\n",
       "      <th>tags</th>\n",
       "      <th>nutrition</th>\n",
       "      <th>n_steps</th>\n",
       "      <th>steps</th>\n",
       "      <th>description</th>\n",
       "      <th>ingredients</th>\n",
       "      <th>n_ingredients</th>\n",
       "      <th>Cuisine_Tags</th>\n",
       "    </tr>\n",
       "  </thead>\n",
       "  <tbody>\n",
       "    <tr>\n",
       "      <th>0</th>\n",
       "      <td>arriba   baked winter squash mexican style</td>\n",
       "      <td>137739</td>\n",
       "      <td>55</td>\n",
       "      <td>47892</td>\n",
       "      <td>2005-09-16</td>\n",
       "      <td>['60-minutes-or-less', 'time-to-make', 'course...</td>\n",
       "      <td>[51.5, 0.0, 13.0, 0.0, 2.0, 0.0, 4.0]</td>\n",
       "      <td>11</td>\n",
       "      <td>['make a choice and proceed with recipe', 'dep...</td>\n",
       "      <td>autumn is my favorite time of year to cook! th...</td>\n",
       "      <td>['winter squash', 'mexican seasoning', 'mixed ...</td>\n",
       "      <td>7</td>\n",
       "      <td>['mexican']</td>\n",
       "    </tr>\n",
       "    <tr>\n",
       "      <th>1</th>\n",
       "      <td>a bit different  breakfast pizza</td>\n",
       "      <td>31490</td>\n",
       "      <td>30</td>\n",
       "      <td>26278</td>\n",
       "      <td>2002-06-17</td>\n",
       "      <td>['30-minutes-or-less', 'time-to-make', 'course...</td>\n",
       "      <td>[173.4, 18.0, 0.0, 17.0, 22.0, 35.0, 1.0]</td>\n",
       "      <td>9</td>\n",
       "      <td>['preheat oven to 425 degrees f', 'press dough...</td>\n",
       "      <td>this recipe calls for the crust to be prebaked...</td>\n",
       "      <td>['prepared pizza crust', 'sausage patty', 'egg...</td>\n",
       "      <td>6</td>\n",
       "      <td>['northeastern-united-states']</td>\n",
       "    </tr>\n",
       "    <tr>\n",
       "      <th>2</th>\n",
       "      <td>amish  tomato ketchup  for canning</td>\n",
       "      <td>44061</td>\n",
       "      <td>190</td>\n",
       "      <td>41706</td>\n",
       "      <td>2002-10-25</td>\n",
       "      <td>['weeknight', 'time-to-make', 'course', 'main-...</td>\n",
       "      <td>[352.9, 1.0, 337.0, 23.0, 3.0, 0.0, 28.0]</td>\n",
       "      <td>5</td>\n",
       "      <td>['mix all ingredients&amp; boil for 2 1 / 2 hours ...</td>\n",
       "      <td>my dh's amish mother raised him on this recipe...</td>\n",
       "      <td>['tomato juice', 'apple cider vinegar', 'sugar...</td>\n",
       "      <td>8</td>\n",
       "      <td>['northeastern-united-states']</td>\n",
       "    </tr>\n",
       "    <tr>\n",
       "      <th>3</th>\n",
       "      <td>aww  marinated olives</td>\n",
       "      <td>25274</td>\n",
       "      <td>15</td>\n",
       "      <td>21730</td>\n",
       "      <td>2002-04-14</td>\n",
       "      <td>['15-minutes-or-less', 'time-to-make', 'course...</td>\n",
       "      <td>[380.7, 53.0, 7.0, 24.0, 6.0, 24.0, 6.0]</td>\n",
       "      <td>4</td>\n",
       "      <td>['toast the fennel seeds and lightly crush the...</td>\n",
       "      <td>my italian mil was thoroughly impressed by my ...</td>\n",
       "      <td>['fennel seed', 'green olive', 'ripe olive', '...</td>\n",
       "      <td>9</td>\n",
       "      <td>['canadian']</td>\n",
       "    </tr>\n",
       "    <tr>\n",
       "      <th>4</th>\n",
       "      <td>chile rellenos</td>\n",
       "      <td>43026</td>\n",
       "      <td>45</td>\n",
       "      <td>52268</td>\n",
       "      <td>2002-10-14</td>\n",
       "      <td>['60-minutes-or-less', 'time-to-make', 'course...</td>\n",
       "      <td>[94.0, 10.0, 0.0, 11.0, 11.0, 21.0, 0.0]</td>\n",
       "      <td>9</td>\n",
       "      <td>['drain green chiles', 'sprinkle cornstarch on...</td>\n",
       "      <td>a favorite from a local restaurant no longer i...</td>\n",
       "      <td>['egg roll wrap', 'whole green chili', 'cheese...</td>\n",
       "      <td>5</td>\n",
       "      <td>['southwestern-united-states']</td>\n",
       "    </tr>\n",
       "  </tbody>\n",
       "</table>\n",
       "</div>"
      ],
      "text/plain": [
       "                                         name      id  minutes  \\\n",
       "0  arriba   baked winter squash mexican style  137739       55   \n",
       "1            a bit different  breakfast pizza   31490       30   \n",
       "2          amish  tomato ketchup  for canning   44061      190   \n",
       "3                       aww  marinated olives   25274       15   \n",
       "4                              chile rellenos   43026       45   \n",
       "\n",
       "   contributor_id   submitted  \\\n",
       "0           47892  2005-09-16   \n",
       "1           26278  2002-06-17   \n",
       "2           41706  2002-10-25   \n",
       "3           21730  2002-04-14   \n",
       "4           52268  2002-10-14   \n",
       "\n",
       "                                                tags  \\\n",
       "0  ['60-minutes-or-less', 'time-to-make', 'course...   \n",
       "1  ['30-minutes-or-less', 'time-to-make', 'course...   \n",
       "2  ['weeknight', 'time-to-make', 'course', 'main-...   \n",
       "3  ['15-minutes-or-less', 'time-to-make', 'course...   \n",
       "4  ['60-minutes-or-less', 'time-to-make', 'course...   \n",
       "\n",
       "                                   nutrition  n_steps  \\\n",
       "0      [51.5, 0.0, 13.0, 0.0, 2.0, 0.0, 4.0]       11   \n",
       "1  [173.4, 18.0, 0.0, 17.0, 22.0, 35.0, 1.0]        9   \n",
       "2  [352.9, 1.0, 337.0, 23.0, 3.0, 0.0, 28.0]        5   \n",
       "3   [380.7, 53.0, 7.0, 24.0, 6.0, 24.0, 6.0]        4   \n",
       "4   [94.0, 10.0, 0.0, 11.0, 11.0, 21.0, 0.0]        9   \n",
       "\n",
       "                                               steps  \\\n",
       "0  ['make a choice and proceed with recipe', 'dep...   \n",
       "1  ['preheat oven to 425 degrees f', 'press dough...   \n",
       "2  ['mix all ingredients& boil for 2 1 / 2 hours ...   \n",
       "3  ['toast the fennel seeds and lightly crush the...   \n",
       "4  ['drain green chiles', 'sprinkle cornstarch on...   \n",
       "\n",
       "                                         description  \\\n",
       "0  autumn is my favorite time of year to cook! th...   \n",
       "1  this recipe calls for the crust to be prebaked...   \n",
       "2  my dh's amish mother raised him on this recipe...   \n",
       "3  my italian mil was thoroughly impressed by my ...   \n",
       "4  a favorite from a local restaurant no longer i...   \n",
       "\n",
       "                                         ingredients  n_ingredients  \\\n",
       "0  ['winter squash', 'mexican seasoning', 'mixed ...              7   \n",
       "1  ['prepared pizza crust', 'sausage patty', 'egg...              6   \n",
       "2  ['tomato juice', 'apple cider vinegar', 'sugar...              8   \n",
       "3  ['fennel seed', 'green olive', 'ripe olive', '...              9   \n",
       "4  ['egg roll wrap', 'whole green chili', 'cheese...              5   \n",
       "\n",
       "                     Cuisine_Tags  \n",
       "0                     ['mexican']  \n",
       "1  ['northeastern-united-states']  \n",
       "2  ['northeastern-united-states']  \n",
       "3                    ['canadian']  \n",
       "4  ['southwestern-united-states']  "
      ]
     },
     "execution_count": 17,
     "metadata": {},
     "output_type": "execute_result"
    }
   ],
   "source": [
    "cuisine_df.head()"
   ]
  },
  {
   "cell_type": "code",
   "execution_count": 18,
   "id": "9d686038",
   "metadata": {},
   "outputs": [],
   "source": [
    "import ast\n",
    "\n",
    "def convert_to_list(tags_str):\n",
    "    try:\n",
    "        return ast.literal_eval(tags_str)\n",
    "    except (ValueError, SyntaxError):\n",
    "        return []"
   ]
  },
  {
   "cell_type": "code",
   "execution_count": 19,
   "id": "c1938bd2",
   "metadata": {},
   "outputs": [],
   "source": [
    "cuisine_df['ingredients']=cuisine_df['ingredients'].apply(convert_to_list)\n",
    "cuisine_df['Cuisine_Tags']=cuisine_df['Cuisine_Tags'].apply(convert_to_list)"
   ]
  },
  {
   "cell_type": "code",
   "execution_count": 20,
   "id": "6a38f62b",
   "metadata": {},
   "outputs": [],
   "source": [
    "# Join ingredients lists into strings\n",
    "cuisine_df['ingredients_str'] = cuisine_df['ingredients'].apply(lambda x: ' '.join(x))\n",
    "cuisine_df['Cuisine_Tags_str']= cuisine_df['Cuisine_Tags'].apply(lambda x: ' '.join(x))"
   ]
  },
  {
   "cell_type": "code",
   "execution_count": 21,
   "id": "bae59849",
   "metadata": {},
   "outputs": [
    {
     "data": {
      "text/plain": [
       "'fettuccine pasta cheddar cheese soup milk picante sauce black olive jalapeno'"
      ]
     },
     "execution_count": 21,
     "metadata": {},
     "output_type": "execute_result"
    }
   ],
   "source": [
    "cuisine_df.ingredients_str[10]"
   ]
  },
  {
   "cell_type": "markdown",
   "id": "6d995cf8",
   "metadata": {},
   "source": [
    "## Process Data"
   ]
  },
  {
   "cell_type": "code",
   "execution_count": 22,
   "id": "96c505ad",
   "metadata": {},
   "outputs": [],
   "source": [
    "# Convert text data to TF-IDF features\n",
    "vectorizer = TfidfVectorizer()\n",
    "X = vectorizer.fit_transform(cuisine_df['ingredients_str'])\n",
    "y = cuisine_df['Cuisine_Tags_str']"
   ]
  },
  {
   "cell_type": "markdown",
   "id": "7c39f8b4",
   "metadata": {},
   "source": [
    "## Split Data"
   ]
  },
  {
   "cell_type": "code",
   "execution_count": 23,
   "id": "ba1aeadc",
   "metadata": {},
   "outputs": [],
   "source": [
    "# Split data into training and test sets\n",
    "X_train, X_test, y_train, y_test = train_test_split(X, y, test_size=0.2, random_state=614)"
   ]
  },
  {
   "cell_type": "code",
   "execution_count": 24,
   "id": "2a62e508",
   "metadata": {},
   "outputs": [],
   "source": [
    "# Kfold split\n",
    "kfold = KFold(n_splits = 4,\n",
    "              shuffle = True)"
   ]
  },
  {
   "cell_type": "markdown",
   "id": "b1b033f7",
   "metadata": {},
   "source": [
    "## Cross-Validation for Models"
   ]
  },
  {
   "cell_type": "code",
   "execution_count": 25,
   "id": "1fda1531",
   "metadata": {},
   "outputs": [],
   "source": [
    "# Store the accuracy\n",
    "acc = np.zeros((3, 4))\n",
    "\n",
    "# Keeps track of the split\n",
    "i = 0\n",
    "for train_index, test_index in kfold.split(X_train, y_train):\n",
    "    ## Creates training split on the training set\n",
    "    X_train_train = X_train[train_index,:]\n",
    "    y_train_train = y_train.iloc[train_index]\n",
    "    \n",
    "    ## Creates holdout data for testing\n",
    "    X_holdout = X_train[test_index,:]\n",
    "    y_holdout = y_train.iloc[test_index]\n",
    "    \n",
    "    # Model 1 - LinearSVC\n",
    "    model_1 = LinearSVC(dual = False)\n",
    "    model_1.fit(X_train_train, y_train_train)\n",
    "    y_holdout_predict_1 = model_1.predict(X_holdout)\n",
    "    \n",
    "    #Store Accuracy\n",
    "    acc[0,i] = accuracy_score(y_holdout, y_holdout_predict_1)\n",
    "    \n",
    "    # Model 2 - KNN\n",
    "    model_2 = KNeighborsClassifier()\n",
    "    model_2.fit(X_train_train, y_train_train)\n",
    "    y_holdout_predict_2 = model_2.predict(X_holdout)\n",
    "    \n",
    "    # Store Accuracy\n",
    "    acc[1,i] = accuracy_score(y_holdout, y_holdout_predict_2)\n",
    "    \n",
    "    # Model 3 - Random Forest\n",
    "    model_3 = RandomForestClassifier()\n",
    "    model_3.fit(X_train_train, y_train_train)\n",
    "    y_holdout_predict_3 = model_3.predict(X_holdout)\n",
    "    \n",
    "    # Store Accuracy\n",
    "    acc[2,i] = accuracy_score(y_holdout, y_holdout_predict_3)\n",
    "    \n",
    "    # Moves onto the next split\n",
    "    i = i + 1"
   ]
  },
  {
   "cell_type": "markdown",
   "id": "7400776e",
   "metadata": {},
   "source": [
    "## Plots Performance"
   ]
  },
  {
   "cell_type": "code",
   "execution_count": 26,
   "id": "3832ba1b",
   "metadata": {},
   "outputs": [
    {
     "data": {
      "image/png": "[encoded data removed]",
      "text/plain": [
       "<Figure size 576x288 with 1 Axes>"
      ]
     },
     "metadata": {
      "needs_background": "light"
     },
     "output_type": "display_data"
    }
   ],
   "source": [
    "## Figure to compare the performances\n",
    "plt.figure(figsize=(8,4))\n",
    "\n",
    "# Plots LinearSVC\n",
    "plt.scatter(np.zeros(4), \n",
    "            acc[0,:], \n",
    "            s=60, \n",
    "            c='white',\n",
    "            edgecolor='black',\n",
    "            label=\"Single Split\")\n",
    "\n",
    "# Plots KNN\n",
    "plt.scatter(np.ones(4), \n",
    "            acc[1,:], \n",
    "            s=60, \n",
    "            c='white',\n",
    "            edgecolor='black')\n",
    "\n",
    "# Plots Random Forest\n",
    "plt.scatter(2*np.ones(4), \n",
    "            acc[2,:], \n",
    "            s=60, \n",
    "            c='white',\n",
    "            edgecolor='black')\n",
    "\n",
    "# Plots Average\n",
    "plt.scatter([0,1,2], \n",
    "            np.mean(acc, axis=1), \n",
    "            s=60, \n",
    "            c='r',\n",
    "            marker='X',\n",
    "            label=\"Mean\")\n",
    "\n",
    "# Creates Legend\n",
    "plt.legend(fontsize=12)\n",
    "\n",
    "# Labels Ticks\n",
    "plt.xticks([0,1,2],[\"LinearSVC\",\"KNN\", \"Random Forest\"], fontsize=10)\n",
    "plt.yticks(fontsize=10)\n",
    "\n",
    "#Labels Graphs\n",
    "plt.xlabel(\"Model\", fontsize=12)\n",
    "plt.ylabel(\"Accuracy\", fontsize=12)\n",
    "\n",
    "# Plots Graph\n",
    "plt.show()"
   ]
  },
  {
   "cell_type": "markdown",
   "id": "2673cd1a",
   "metadata": {},
   "source": [
    "## Testing Models on Test Data"
   ]
  },
  {
   "cell_type": "code",
   "execution_count": 27,
   "id": "caddcb4a",
   "metadata": {
    "scrolled": true
   },
   "outputs": [
    {
     "data": {
      "text/plain": [
       "0.5572420634920635"
      ]
     },
     "execution_count": 27,
     "metadata": {},
     "output_type": "execute_result"
    }
   ],
   "source": [
    "y_predict=model_1.predict(X_test)\n",
    "accuracy_score(y_test, y_predict)"
   ]
  },
  {
   "cell_type": "code",
   "execution_count": 28,
   "id": "218576b2",
   "metadata": {},
   "outputs": [
    {
     "data": {
      "text/plain": [
       "0.47867063492063494"
      ]
     },
     "execution_count": 28,
     "metadata": {},
     "output_type": "execute_result"
    }
   ],
   "source": [
    "y_predict=model_2.predict(X_test)\n",
    "accuracy_score(y_test, y_predict)"
   ]
  },
  {
   "cell_type": "code",
   "execution_count": 29,
   "id": "6db70481",
   "metadata": {
    "scrolled": true
   },
   "outputs": [
    {
     "data": {
      "text/plain": [
       "0.5197420634920635"
      ]
     },
     "execution_count": 29,
     "metadata": {},
     "output_type": "execute_result"
    }
   ],
   "source": [
    "y_predict=model_3.predict(X_test)\n",
    "accuracy_score(y_test, y_predict)"
   ]
  },
  {
   "cell_type": "markdown",
   "id": "f3e3ff02",
   "metadata": {},
   "source": [
    "## Deciding on Minimal Clustering of Cuisines"
   ]
  },
  {
   "cell_type": "code",
   "execution_count": 50,
   "id": "171746e6",
   "metadata": {},
   "outputs": [],
   "source": [
    "# Verify the content of the JSON file\n",
    "with open('cuisine_clusters30.json', 'r') as f:\n",
    "    clusters30 = json.load(f)"
   ]
  },
  {
   "cell_type": "code",
   "execution_count": 51,
   "id": "31d787b0",
   "metadata": {},
   "outputs": [],
   "source": [
    "# Create a reverse mapping from cuisine to cluster number\n",
    "cuisine_to_cluster30 = {cuisine: cluster for cluster, cuisines in clusters30.items() for cuisine in cuisines}"
   ]
  },
  {
   "cell_type": "code",
   "execution_count": 52,
   "id": "65cd505d",
   "metadata": {},
   "outputs": [],
   "source": [
    "# Function to map each cuisine tag to its cluster number\n",
    "def get_cluster_number(cuisine_tags):\n",
    "    return cuisine_to_cluster30.get(cuisine_tags[0], None)  # Assuming each cuisine tag is a single-item list"
   ]
  },
  {
   "cell_type": "code",
   "execution_count": 53,
   "id": "adb2e943",
   "metadata": {},
   "outputs": [],
   "source": [
    "# Apply the function to create a new column with cluster numbers\n",
    "cuisine_df['Clusters'] = cuisine_df['Cuisine_Tags'].apply(get_cluster_number)"
   ]
  },
  {
   "cell_type": "code",
   "execution_count": 54,
   "id": "3d244e88",
   "metadata": {},
   "outputs": [],
   "source": [
    "# Convert text data to TF-IDF features\n",
    "vectorizer = TfidfVectorizer()\n",
    "X = vectorizer.fit_transform(cuisine_df['ingredients_str'])\n",
    "y = cuisine_df['Clusters']"
   ]
  },
  {
   "cell_type": "code",
   "execution_count": 55,
   "id": "3d1dfbe1",
   "metadata": {},
   "outputs": [],
   "source": [
    "# Split data into training and test sets\n",
    "X_train, X_test, y_train, y_test = train_test_split(X, y, test_size=0.2, random_state=614)"
   ]
  },
  {
   "cell_type": "code",
   "execution_count": 56,
   "id": "d46ac295",
   "metadata": {},
   "outputs": [],
   "source": [
    "# Kfold split\n",
    "kfold = KFold(n_splits = 4,\n",
    "              shuffle = True)"
   ]
  },
  {
   "cell_type": "code",
   "execution_count": 57,
   "id": "7fb02732",
   "metadata": {},
   "outputs": [],
   "source": [
    "# Store the accuracy\n",
    "acc = np.zeros((3, 4))\n",
    "\n",
    "# Keeps track of the split\n",
    "i = 0\n",
    "for train_index, test_index in kfold.split(X_train, y_train):\n",
    "    ## Creates training split on the training set\n",
    "    X_train_train = X_train[train_index,:]\n",
    "    y_train_train = y_train.iloc[train_index]\n",
    "    \n",
    "    ## Creates holdout data for testing\n",
    "    X_holdout = X_train[test_index,:]\n",
    "    y_holdout = y_train.iloc[test_index]\n",
    "    \n",
    "    # Model 1 - LinearSVC\n",
    "    model_1 = LinearSVC(dual = False)\n",
    "    model_1.fit(X_train_train, y_train_train)\n",
    "    y_holdout_predict_1 = model_1.predict(X_holdout)\n",
    "    \n",
    "    #Store Accuracy\n",
    "    acc[0,i] = accuracy_score(y_holdout, y_holdout_predict_1)\n",
    "    \n",
    "    # Model 2 - KNN\n",
    "    model_2 = KNeighborsClassifier()\n",
    "    model_2.fit(X_train_train, y_train_train)\n",
    "    y_holdout_predict_2 = model_2.predict(X_holdout)\n",
    "    \n",
    "    # Store Accuracy\n",
    "    acc[1,i] = accuracy_score(y_holdout, y_holdout_predict_2)\n",
    "    \n",
    "    # Model 3 - Random Forest\n",
    "    model_3 = RandomForestClassifier()\n",
    "    model_3.fit(X_train_train, y_train_train)\n",
    "    y_holdout_predict_3 = model_3.predict(X_holdout)\n",
    "    \n",
    "    # Store Accuracy\n",
    "    acc[2,i] = accuracy_score(y_holdout, y_holdout_predict_3)\n",
    "    \n",
    "    # Moves onto the next split\n",
    "    i = i + 1"
   ]
  },
  {
   "cell_type": "code",
   "execution_count": 58,
   "id": "74abc3ea",
   "metadata": {},
   "outputs": [
    {
     "data": {
      "image/png": "[encoded data removed]",
      "text/plain": [
       "<Figure size 576x288 with 1 Axes>"
      ]
     },
     "metadata": {
      "needs_background": "light"
     },
     "output_type": "display_data"
    }
   ],
   "source": [
    "## Figure to compare the performances\n",
    "plt.figure(figsize=(8,4))\n",
    "\n",
    "# Plots LinearSVC\n",
    "plt.scatter(np.zeros(4), \n",
    "            acc[0,:], \n",
    "            s=60, \n",
    "            c='white',\n",
    "            edgecolor='black',\n",
    "            label=\"Single Split\")\n",
    "\n",
    "# Plots KNN\n",
    "plt.scatter(np.ones(4), \n",
    "            acc[1,:], \n",
    "            s=60, \n",
    "            c='white',\n",
    "            edgecolor='black')\n",
    "\n",
    "# Plots Random Forest\n",
    "plt.scatter(2*np.ones(4), \n",
    "            acc[2,:], \n",
    "            s=60, \n",
    "            c='white',\n",
    "            edgecolor='black')\n",
    "\n",
    "# Plots Average\n",
    "plt.scatter([0,1,2], \n",
    "            np.mean(acc, axis=1), \n",
    "            s=60, \n",
    "            c='r',\n",
    "            marker='X',\n",
    "            label=\"Mean\")\n",
    "\n",
    "# Creates Legend\n",
    "plt.legend(fontsize=12)\n",
    "\n",
    "# Labels Ticks\n",
    "plt.xticks([0,1,2],[\"LinearSVC\",\"KNN\", \"Random Forest\"], fontsize=10)\n",
    "plt.yticks(fontsize=10)\n",
    "\n",
    "#Labels Graphs\n",
    "plt.xlabel(\"Model\", fontsize=12)\n",
    "plt.ylabel(\"Accuracy\", fontsize=12)\n",
    "\n",
    "# Plots Graph\n",
    "plt.show()"
   ]
  },
  {
   "cell_type": "code",
   "execution_count": null,
   "id": "f98a74c2",
   "metadata": {},
   "outputs": [],
   "source": []
  },
  {
   "cell_type": "code",
   "execution_count": 59,
   "id": "91d632d4",
   "metadata": {
    "scrolled": true
   },
   "outputs": [
    {
     "data": {
      "text/plain": [
       "0.718452380952381"
      ]
     },
     "execution_count": 59,
     "metadata": {},
     "output_type": "execute_result"
    }
   ],
   "source": [
    "y_predict=model_1.predict(X_test)\n",
    "accuracy_score(y_test, y_predict)"
   ]
  },
  {
   "cell_type": "code",
   "execution_count": 60,
   "id": "48f3c7f4",
   "metadata": {},
   "outputs": [
    {
     "data": {
      "text/plain": [
       "0.6455357142857143"
      ]
     },
     "execution_count": 60,
     "metadata": {},
     "output_type": "execute_result"
    }
   ],
   "source": [
    "y_predict=model_2.predict(X_test)\n",
    "accuracy_score(y_test, y_predict)"
   ]
  },
  {
   "cell_type": "code",
   "execution_count": 61,
   "id": "a39d401f",
   "metadata": {
    "scrolled": true
   },
   "outputs": [
    {
     "data": {
      "text/plain": [
       "0.6808531746031746"
      ]
     },
     "execution_count": 61,
     "metadata": {},
     "output_type": "execute_result"
    }
   ],
   "source": [
    "y_predict=model_3.predict(X_test)\n",
    "accuracy_score(y_test, y_predict)"
   ]
  },
  {
   "cell_type": "code",
   "execution_count": null,
   "id": "a67f2aad",
   "metadata": {},
   "outputs": [],
   "source": []
  },
  {
   "cell_type": "code",
   "execution_count": null,
   "id": "9c7ad8ac",
   "metadata": {},
   "outputs": [],
   "source": []
  },
  {
   "cell_type": "code",
   "execution_count": null,
   "id": "7b0ba6a1",
   "metadata": {},
   "outputs": [],
   "source": []
  },
  {
   "cell_type": "code",
   "execution_count": 62,
   "id": "2e2cf100",
   "metadata": {},
   "outputs": [],
   "source": [
    "# Verify the content of the JSON file\n",
    "with open('cuisine_clusters20.json', 'r') as f:\n",
    "    clusters20 = json.load(f)"
   ]
  },
  {
   "cell_type": "code",
   "execution_count": 63,
   "id": "26c6850a",
   "metadata": {},
   "outputs": [],
   "source": [
    "# Create a reverse mapping from cuisine to cluster number\n",
    "cuisine_to_cluster20 = {cuisine: cluster for cluster, cuisines in clusters20.items() for cuisine in cuisines}"
   ]
  },
  {
   "cell_type": "code",
   "execution_count": 64,
   "id": "ede2ccb7",
   "metadata": {},
   "outputs": [],
   "source": [
    "# Function to map each cuisine tag to its cluster number\n",
    "def get_cluster_number(cuisine_tags):\n",
    "    return cuisine_to_cluster20.get(cuisine_tags[0], None)  # Assuming each cuisine tag is a single-item list"
   ]
  },
  {
   "cell_type": "code",
   "execution_count": 65,
   "id": "e618c93d",
   "metadata": {},
   "outputs": [],
   "source": [
    "# Apply the function to create a new column with cluster numbers\n",
    "cuisine_df['Cluster'] = cuisine_df['Cuisine_Tags'].apply(get_cluster_number)"
   ]
  },
  {
   "cell_type": "code",
   "execution_count": 66,
   "id": "768c56b0",
   "metadata": {},
   "outputs": [],
   "source": [
    "# Convert text data to TF-IDF features\n",
    "vectorizer = TfidfVectorizer()\n",
    "X = vectorizer.fit_transform(cuisine_df['ingredients_str'])\n",
    "y = cuisine_df['Cluster']"
   ]
  },
  {
   "cell_type": "code",
   "execution_count": 67,
   "id": "2930a9da",
   "metadata": {},
   "outputs": [],
   "source": [
    "# Convert text data to TF-IDF features\n",
    "vectorizer = TfidfVectorizer()\n",
    "X = vectorizer.fit_transform(cuisine_df['ingredients_str'])\n",
    "y = cuisine_df['Cluster']"
   ]
  },
  {
   "cell_type": "code",
   "execution_count": 68,
   "id": "805165ce",
   "metadata": {},
   "outputs": [],
   "source": [
    "# Split data into training and test sets\n",
    "X_train, X_test, y_train, y_test = train_test_split(X, y, test_size=0.2, random_state=614)"
   ]
  },
  {
   "cell_type": "code",
   "execution_count": 69,
   "id": "44bd84ef",
   "metadata": {},
   "outputs": [],
   "source": [
    "# Kfold split\n",
    "kfold = KFold(n_splits = 4,\n",
    "              shuffle = True)"
   ]
  },
  {
   "cell_type": "code",
   "execution_count": 70,
   "id": "a2bfb543",
   "metadata": {},
   "outputs": [],
   "source": [
    "# Store the accuracy\n",
    "acc = np.zeros((3, 4))\n",
    "\n",
    "# Keeps track of the split\n",
    "i = 0\n",
    "for train_index, test_index in kfold.split(X_train, y_train):\n",
    "    ## Creates training split on the training set\n",
    "    X_train_train = X_train[train_index,:]\n",
    "    y_train_train = y_train.iloc[train_index]\n",
    "    \n",
    "    ## Creates holdout data for testing\n",
    "    X_holdout = X_train[test_index,:]\n",
    "    y_holdout = y_train.iloc[test_index]\n",
    "    \n",
    "    # Model 1 - LinearSVC\n",
    "    model_1 = LinearSVC(dual = False)\n",
    "    model_1.fit(X_train_train, y_train_train)\n",
    "    y_holdout_predict_1 = model_1.predict(X_holdout)\n",
    "    \n",
    "    #Store Accuracy\n",
    "    acc[0,i] = accuracy_score(y_holdout, y_holdout_predict_1)\n",
    "    \n",
    "    # Model 2 - KNN\n",
    "    model_2 = KNeighborsClassifier()\n",
    "    model_2.fit(X_train_train, y_train_train)\n",
    "    y_holdout_predict_2 = model_2.predict(X_holdout)\n",
    "    \n",
    "    # Store Accuracy\n",
    "    acc[1,i] = accuracy_score(y_holdout, y_holdout_predict_2)\n",
    "    \n",
    "    # Model 3 - Random Forest\n",
    "    model_3 = RandomForestClassifier()\n",
    "    model_3.fit(X_train_train, y_train_train)\n",
    "    y_holdout_predict_3 = model_3.predict(X_holdout)\n",
    "    \n",
    "    # Store Accuracy\n",
    "    acc[2,i] = accuracy_score(y_holdout, y_holdout_predict_3)\n",
    "    \n",
    "    # Moves onto the next split\n",
    "    i = i + 1"
   ]
  },
  {
   "cell_type": "code",
   "execution_count": 71,
   "id": "41ba28e5",
   "metadata": {
    "scrolled": true
   },
   "outputs": [
    {
     "data": {
      "image/png": "[encoded data removed]",
      "text/plain": [
       "<Figure size 576x288 with 1 Axes>"
      ]
     },
     "metadata": {
      "needs_background": "light"
     },
     "output_type": "display_data"
    }
   ],
   "source": [
    "## Figure to compare the performances\n",
    "plt.figure(figsize=(8,4))\n",
    "\n",
    "# Plots LinearSVC\n",
    "plt.scatter(np.zeros(4), \n",
    "            acc[0,:], \n",
    "            s=60, \n",
    "            c='white',\n",
    "            edgecolor='black',\n",
    "            label=\"Single Split\")\n",
    "\n",
    "# Plots KNN\n",
    "plt.scatter(np.ones(4), \n",
    "            acc[1,:], \n",
    "            s=60, \n",
    "            c='white',\n",
    "            edgecolor='black')\n",
    "\n",
    "# Plots Random Forest\n",
    "plt.scatter(2*np.ones(4), \n",
    "            acc[2,:], \n",
    "            s=60, \n",
    "            c='white',\n",
    "            edgecolor='black')\n",
    "\n",
    "# Plots Average\n",
    "plt.scatter([0,1,2], \n",
    "            np.mean(acc, axis=1), \n",
    "            s=60, \n",
    "            c='r',\n",
    "            marker='X',\n",
    "            label=\"Mean\")\n",
    "\n",
    "# Creates Legend\n",
    "plt.legend(fontsize=12)\n",
    "\n",
    "# Labels Ticks\n",
    "plt.xticks([0,1,2],[\"LinearSVC\",\"KNN\", \"Random Forest\"], fontsize=10)\n",
    "plt.yticks(fontsize=10)\n",
    "\n",
    "#Labels Graphs\n",
    "plt.xlabel(\"Model\", fontsize=12)\n",
    "plt.ylabel(\"Accuracy\", fontsize=12)\n",
    "\n",
    "# Plots Graph\n",
    "plt.show()"
   ]
  },
  {
   "cell_type": "code",
   "execution_count": null,
   "id": "8cef7080",
   "metadata": {},
   "outputs": [],
   "source": []
  },
  {
   "cell_type": "code",
   "execution_count": 72,
   "id": "38683eff",
   "metadata": {
    "scrolled": true
   },
   "outputs": [
    {
     "data": {
      "text/plain": [
       "0.7614087301587301"
      ]
     },
     "execution_count": 72,
     "metadata": {},
     "output_type": "execute_result"
    }
   ],
   "source": [
    "y_predict=model_1.predict(X_test)\n",
    "accuracy_score(y_test, y_predict)"
   ]
  },
  {
   "cell_type": "code",
   "execution_count": 73,
   "id": "33d80eb0",
   "metadata": {},
   "outputs": [
    {
     "data": {
      "text/plain": [
       "0.7003968253968254"
      ]
     },
     "execution_count": 73,
     "metadata": {},
     "output_type": "execute_result"
    }
   ],
   "source": [
    "y_predict=model_2.predict(X_test)\n",
    "accuracy_score(y_test, y_predict)"
   ]
  },
  {
   "cell_type": "code",
   "execution_count": 74,
   "id": "80cd2a74",
   "metadata": {
    "scrolled": true
   },
   "outputs": [
    {
     "data": {
      "text/plain": [
       "0.7277777777777777"
      ]
     },
     "execution_count": 74,
     "metadata": {},
     "output_type": "execute_result"
    }
   ],
   "source": [
    "y_predict=model_3.predict(X_test)\n",
    "accuracy_score(y_test, y_predict)"
   ]
  },
  {
   "cell_type": "code",
   "execution_count": null,
   "id": "03fff43c",
   "metadata": {},
   "outputs": [],
   "source": []
  },
  {
   "cell_type": "code",
   "execution_count": null,
   "id": "5e44273a",
   "metadata": {},
   "outputs": [],
   "source": []
  },
  {
   "cell_type": "code",
   "execution_count": null,
   "id": "f94291eb",
   "metadata": {},
   "outputs": [],
   "source": []
  },
  {
   "cell_type": "code",
   "execution_count": 75,
   "id": "e2cc8f82",
   "metadata": {},
   "outputs": [],
   "source": [
    "# Verify the content of the JSON file\n",
    "with open('cuisine_clusters15.json', 'r') as f:\n",
    "    clusters15 = json.load(f)"
   ]
  },
  {
   "cell_type": "code",
   "execution_count": 76,
   "id": "c940b859",
   "metadata": {},
   "outputs": [],
   "source": [
    "# Create a reverse mapping from cuisine to cluster number\n",
    "cuisine_to_cluster15 = {cuisine: cluster for cluster, cuisines in clusters15.items() for cuisine in cuisines}"
   ]
  },
  {
   "cell_type": "code",
   "execution_count": 77,
   "id": "dfab7aef",
   "metadata": {},
   "outputs": [],
   "source": [
    "# Function to map each cuisine tag to its cluster number\n",
    "def get_cluster_number(cuisine_tags):\n",
    "    return cuisine_to_cluster15.get(cuisine_tags[0], None)  # Assuming each cuisine tag is a single-item list"
   ]
  },
  {
   "cell_type": "code",
   "execution_count": 78,
   "id": "b86c0895",
   "metadata": {},
   "outputs": [],
   "source": [
    "# Apply the function to create a new column with cluster numbers\n",
    "cuisine_df['Cluster'] = cuisine_df['Cuisine_Tags'].apply(get_cluster_number)"
   ]
  },
  {
   "cell_type": "code",
   "execution_count": 79,
   "id": "70cce3d7",
   "metadata": {},
   "outputs": [],
   "source": [
    "# Convert text data to TF-IDF features\n",
    "vectorizer = TfidfVectorizer()\n",
    "X = vectorizer.fit_transform(cuisine_df['ingredients_str'])\n",
    "y = cuisine_df['Cluster']"
   ]
  },
  {
   "cell_type": "code",
   "execution_count": 80,
   "id": "ad05152a",
   "metadata": {},
   "outputs": [],
   "source": [
    "# Convert text data to TF-IDF features\n",
    "vectorizer = TfidfVectorizer()\n",
    "X = vectorizer.fit_transform(cuisine_df['ingredients_str'])\n",
    "y = cuisine_df['Cluster']"
   ]
  },
  {
   "cell_type": "code",
   "execution_count": 81,
   "id": "7cae1209",
   "metadata": {},
   "outputs": [],
   "source": [
    "# Split data into training and test sets\n",
    "X_train, X_test, y_train, y_test = train_test_split(X, y, test_size=0.2, random_state=614)"
   ]
  },
  {
   "cell_type": "code",
   "execution_count": 82,
   "id": "82a51c8a",
   "metadata": {},
   "outputs": [],
   "source": [
    "# Kfold split\n",
    "kfold = KFold(n_splits = 4,\n",
    "              shuffle = True)"
   ]
  },
  {
   "cell_type": "code",
   "execution_count": 83,
   "id": "6fb2b09e",
   "metadata": {},
   "outputs": [],
   "source": [
    "# Store the accuracy\n",
    "acc = np.zeros((3, 4))\n",
    "\n",
    "# Keeps track of the split\n",
    "i = 0\n",
    "for train_index, test_index in kfold.split(X_train, y_train):\n",
    "    ## Creates training split on the training set\n",
    "    X_train_train = X_train[train_index,:]\n",
    "    y_train_train = y_train.iloc[train_index]\n",
    "    \n",
    "    ## Creates holdout data for testing\n",
    "    X_holdout = X_train[test_index,:]\n",
    "    y_holdout = y_train.iloc[test_index]\n",
    "    \n",
    "    # Model 1 - LinearSVC\n",
    "    model_1 = LinearSVC(dual = False)\n",
    "    model_1.fit(X_train_train, y_train_train)\n",
    "    y_holdout_predict_1 = model_1.predict(X_holdout)\n",
    "    \n",
    "    #Store Accuracy\n",
    "    acc[0,i] = accuracy_score(y_holdout, y_holdout_predict_1)\n",
    "    \n",
    "    # Model 2 - KNN\n",
    "    model_2 = KNeighborsClassifier()\n",
    "    model_2.fit(X_train_train, y_train_train)\n",
    "    y_holdout_predict_2 = model_2.predict(X_holdout)\n",
    "    \n",
    "    # Store Accuracy\n",
    "    acc[1,i] = accuracy_score(y_holdout, y_holdout_predict_2)\n",
    "    \n",
    "    # Model 3 - Random Forest\n",
    "    model_3 = RandomForestClassifier()\n",
    "    model_3.fit(X_train_train, y_train_train)\n",
    "    y_holdout_predict_3 = model_3.predict(X_holdout)\n",
    "    \n",
    "    # Store Accuracy\n",
    "    acc[2,i] = accuracy_score(y_holdout, y_holdout_predict_3)\n",
    "    \n",
    "    # Moves onto the next split\n",
    "    i = i + 1"
   ]
  },
  {
   "cell_type": "code",
   "execution_count": 84,
   "id": "051bb69e",
   "metadata": {
    "scrolled": true
   },
   "outputs": [
    {
     "data": {
      "image/png": "[encoded data removed]",
      "text/plain": [
       "<Figure size 576x288 with 1 Axes>"
      ]
     },
     "metadata": {
      "needs_background": "light"
     },
     "output_type": "display_data"
    }
   ],
   "source": [
    "## Figure to compare the performances\n",
    "plt.figure(figsize=(8,4))\n",
    "\n",
    "# Plots LinearSVC\n",
    "plt.scatter(np.zeros(4), \n",
    "            acc[0,:], \n",
    "            s=60, \n",
    "            c='white',\n",
    "            edgecolor='black',\n",
    "            label=\"Single Split\")\n",
    "\n",
    "# Plots KNN\n",
    "plt.scatter(np.ones(4), \n",
    "            acc[1,:], \n",
    "            s=60, \n",
    "            c='white',\n",
    "            edgecolor='black')\n",
    "\n",
    "# Plots Random Forest\n",
    "plt.scatter(2*np.ones(4), \n",
    "            acc[2,:], \n",
    "            s=60, \n",
    "            c='white',\n",
    "            edgecolor='black')\n",
    "\n",
    "# Plots Average\n",
    "plt.scatter([0,1,2], \n",
    "            np.mean(acc, axis=1), \n",
    "            s=60, \n",
    "            c='r',\n",
    "            marker='X',\n",
    "            label=\"Mean\")\n",
    "\n",
    "# Creates Legend\n",
    "plt.legend(fontsize=12)\n",
    "\n",
    "# Labels Ticks\n",
    "plt.xticks([0,1,2],[\"LinearSVC\",\"KNN\", \"Random Forest\"], fontsize=10)\n",
    "plt.yticks(fontsize=10)\n",
    "\n",
    "#Labels Graphs\n",
    "plt.xlabel(\"Model\", fontsize=12)\n",
    "plt.ylabel(\"Accuracy\", fontsize=12)\n",
    "\n",
    "# Plots Graph\n",
    "plt.show()"
   ]
  },
  {
   "cell_type": "code",
   "execution_count": null,
   "id": "516e3b0b",
   "metadata": {},
   "outputs": [],
   "source": []
  },
  {
   "cell_type": "code",
   "execution_count": 85,
   "id": "8205f4e7",
   "metadata": {
    "scrolled": true
   },
   "outputs": [
    {
     "data": {
      "text/plain": [
       "0.7863095238095238"
      ]
     },
     "execution_count": 85,
     "metadata": {},
     "output_type": "execute_result"
    }
   ],
   "source": [
    "y_predict=model_1.predict(X_test)\n",
    "accuracy_score(y_test, y_predict)"
   ]
  },
  {
   "cell_type": "code",
   "execution_count": 86,
   "id": "6230bf25",
   "metadata": {},
   "outputs": [
    {
     "data": {
      "text/plain": [
       "0.7296626984126984"
      ]
     },
     "execution_count": 86,
     "metadata": {},
     "output_type": "execute_result"
    }
   ],
   "source": [
    "y_predict=model_2.predict(X_test)\n",
    "accuracy_score(y_test, y_predict)"
   ]
  },
  {
   "cell_type": "code",
   "execution_count": 87,
   "id": "17a2a69b",
   "metadata": {
    "scrolled": true
   },
   "outputs": [
    {
     "data": {
      "text/plain": [
       "0.7569444444444444"
      ]
     },
     "execution_count": 87,
     "metadata": {},
     "output_type": "execute_result"
    }
   ],
   "source": [
    "y_predict=model_3.predict(X_test)\n",
    "accuracy_score(y_test, y_predict)"
   ]
  },
  {
   "cell_type": "code",
   "execution_count": null,
   "id": "c86a927d",
   "metadata": {},
   "outputs": [],
   "source": []
  },
  {
   "cell_type": "code",
   "execution_count": null,
   "id": "2cd954a2",
   "metadata": {},
   "outputs": [],
   "source": []
  },
  {
   "cell_type": "code",
   "execution_count": 88,
   "id": "51fe4664",
   "metadata": {},
   "outputs": [],
   "source": [
    "# Verify the content of the JSON file\n",
    "with open('cuisine_clusters10.json', 'r') as f:\n",
    "    clusters10 = json.load(f)"
   ]
  },
  {
   "cell_type": "code",
   "execution_count": 89,
   "id": "eaf79414",
   "metadata": {},
   "outputs": [],
   "source": [
    "# Create a reverse mapping from cuisine to cluster number\n",
    "cuisine_to_cluster10 = {cuisine: cluster for cluster, cuisines in clusters10.items() for cuisine in cuisines}"
   ]
  },
  {
   "cell_type": "code",
   "execution_count": 90,
   "id": "f8868614",
   "metadata": {},
   "outputs": [],
   "source": [
    "# Function to map each cuisine tag to its cluster number\n",
    "def get_cluster_number(cuisine_tags):\n",
    "    return cuisine_to_cluster10.get(cuisine_tags[0], None)  # Assuming each cuisine tag is a single-item list"
   ]
  },
  {
   "cell_type": "code",
   "execution_count": 91,
   "id": "7ae9a915",
   "metadata": {},
   "outputs": [],
   "source": [
    "# Apply the function to create a new column with cluster numbers\n",
    "cuisine_df['Cluster'] = cuisine_df['Cuisine_Tags'].apply(get_cluster_number)"
   ]
  },
  {
   "cell_type": "code",
   "execution_count": 92,
   "id": "ce895f54",
   "metadata": {},
   "outputs": [],
   "source": [
    "# Convert text data to TF-IDF features\n",
    "vectorizer = TfidfVectorizer()\n",
    "X = vectorizer.fit_transform(cuisine_df['ingredients_str'])\n",
    "y = cuisine_df['Cluster']"
   ]
  },
  {
   "cell_type": "code",
   "execution_count": 93,
   "id": "f901db8e",
   "metadata": {},
   "outputs": [],
   "source": [
    "# Convert text data to TF-IDF features\n",
    "vectorizer = TfidfVectorizer()\n",
    "X = vectorizer.fit_transform(cuisine_df['ingredients_str'])\n",
    "y = cuisine_df['Cluster']"
   ]
  },
  {
   "cell_type": "code",
   "execution_count": 94,
   "id": "60233732",
   "metadata": {},
   "outputs": [],
   "source": [
    "# Split data into training and test sets\n",
    "X_train, X_test, y_train, y_test = train_test_split(X, y, test_size=0.2, random_state=614)"
   ]
  },
  {
   "cell_type": "code",
   "execution_count": 95,
   "id": "15c36261",
   "metadata": {},
   "outputs": [],
   "source": [
    "# Kfold split\n",
    "kfold = KFold(n_splits = 4,\n",
    "              shuffle = True)"
   ]
  },
  {
   "cell_type": "code",
   "execution_count": 96,
   "id": "b13f431a",
   "metadata": {},
   "outputs": [],
   "source": [
    "# Store the accuracy\n",
    "acc = np.zeros((3, 4))\n",
    "\n",
    "# Keeps track of the split\n",
    "i = 0\n",
    "for train_index, test_index in kfold.split(X_train, y_train):\n",
    "    ## Creates training split on the training set\n",
    "    X_train_train = X_train[train_index,:]\n",
    "    y_train_train = y_train.iloc[train_index]\n",
    "    \n",
    "    ## Creates holdout data for testing\n",
    "    X_holdout = X_train[test_index,:]\n",
    "    y_holdout = y_train.iloc[test_index]\n",
    "    \n",
    "    # Model 1 - LinearSVC\n",
    "    model_1 = LinearSVC(dual = False)\n",
    "    model_1.fit(X_train_train, y_train_train)\n",
    "    y_holdout_predict_1 = model_1.predict(X_holdout)\n",
    "    \n",
    "    #Store Accuracy\n",
    "    acc[0,i] = accuracy_score(y_holdout, y_holdout_predict_1)\n",
    "    \n",
    "    # Model 2 - KNN\n",
    "    model_2 = KNeighborsClassifier()\n",
    "    model_2.fit(X_train_train, y_train_train)\n",
    "    y_holdout_predict_2 = model_2.predict(X_holdout)\n",
    "    \n",
    "    # Store Accuracy\n",
    "    acc[1,i] = accuracy_score(y_holdout, y_holdout_predict_2)\n",
    "    \n",
    "    # Model 3 - Random Forest\n",
    "    model_3 = RandomForestClassifier()\n",
    "    model_3.fit(X_train_train, y_train_train)\n",
    "    y_holdout_predict_3 = model_3.predict(X_holdout)\n",
    "    \n",
    "    # Store Accuracy\n",
    "    acc[2,i] = accuracy_score(y_holdout, y_holdout_predict_3)\n",
    "    \n",
    "    # Moves onto the next split\n",
    "    i = i + 1"
   ]
  },
  {
   "cell_type": "code",
   "execution_count": 97,
   "id": "412d2e79",
   "metadata": {
    "scrolled": true
   },
   "outputs": [
    {
     "data": {
      "image/png": "[encoded data removed]",
      "text/plain": [
       "<Figure size 576x288 with 1 Axes>"
      ]
     },
     "metadata": {
      "needs_background": "light"
     },
     "output_type": "display_data"
    }
   ],
   "source": [
    "## Figure to compare the performances\n",
    "plt.figure(figsize=(8,4))\n",
    "\n",
    "# Plots LinearSVC\n",
    "plt.scatter(np.zeros(4), \n",
    "            acc[0,:], \n",
    "            s=60, \n",
    "            c='white',\n",
    "            edgecolor='black',\n",
    "            label=\"Single Split\")\n",
    "\n",
    "# Plots KNN\n",
    "plt.scatter(np.ones(4), \n",
    "            acc[1,:], \n",
    "            s=60, \n",
    "            c='white',\n",
    "            edgecolor='black')\n",
    "\n",
    "# Plots Random Forest\n",
    "plt.scatter(2*np.ones(4), \n",
    "            acc[2,:], \n",
    "            s=60, \n",
    "            c='white',\n",
    "            edgecolor='black')\n",
    "\n",
    "# Plots Average\n",
    "plt.scatter([0,1,2], \n",
    "            np.mean(acc, axis=1), \n",
    "            s=60, \n",
    "            c='r',\n",
    "            marker='X',\n",
    "            label=\"Mean\")\n",
    "\n",
    "# Creates Legend\n",
    "plt.legend(fontsize=12)\n",
    "\n",
    "# Labels Ticks\n",
    "plt.xticks([0,1,2],[\"LinearSVC\",\"KNN\", \"Random Forest\"], fontsize=10)\n",
    "plt.yticks(fontsize=10)\n",
    "\n",
    "#Labels Graphs\n",
    "plt.xlabel(\"Model\", fontsize=12)\n",
    "plt.ylabel(\"Accuracy\", fontsize=12)\n",
    "\n",
    "# Plots Graph\n",
    "plt.show()"
   ]
  },
  {
   "cell_type": "code",
   "execution_count": null,
   "id": "e4408eb9",
   "metadata": {},
   "outputs": [],
   "source": []
  },
  {
   "cell_type": "code",
   "execution_count": 98,
   "id": "b4f6e8f3",
   "metadata": {
    "scrolled": true
   },
   "outputs": [
    {
     "data": {
      "text/plain": [
       "0.8168650793650793"
      ]
     },
     "execution_count": 98,
     "metadata": {},
     "output_type": "execute_result"
    }
   ],
   "source": [
    "y_predict=model_1.predict(X_test)\n",
    "accuracy_score(y_test, y_predict)"
   ]
  },
  {
   "cell_type": "code",
   "execution_count": 99,
   "id": "449ff77d",
   "metadata": {},
   "outputs": [
    {
     "data": {
      "text/plain": [
       "0.7655753968253968"
      ]
     },
     "execution_count": 99,
     "metadata": {},
     "output_type": "execute_result"
    }
   ],
   "source": [
    "y_predict=model_2.predict(X_test)\n",
    "accuracy_score(y_test, y_predict)"
   ]
  },
  {
   "cell_type": "code",
   "execution_count": 100,
   "id": "e384f518",
   "metadata": {
    "scrolled": true
   },
   "outputs": [
    {
     "data": {
      "text/plain": [
       "0.7999007936507937"
      ]
     },
     "execution_count": 100,
     "metadata": {},
     "output_type": "execute_result"
    }
   ],
   "source": [
    "y_predict=model_3.predict(X_test)\n",
    "accuracy_score(y_test, y_predict)"
   ]
  },
  {
   "cell_type": "code",
   "execution_count": null,
   "id": "a10e875d",
   "metadata": {},
   "outputs": [],
   "source": []
  },
  {
   "cell_type": "code",
   "execution_count": null,
   "id": "91ed2c5a",
   "metadata": {},
   "outputs": [],
   "source": []
  },
  {
   "cell_type": "code",
   "execution_count": 101,
   "id": "0ca07f48",
   "metadata": {},
   "outputs": [],
   "source": [
    "# Verify the content of the JSON file\n",
    "with open('cuisine_clusters5.json', 'r') as f:\n",
    "    clusters5 = json.load(f)"
   ]
  },
  {
   "cell_type": "code",
   "execution_count": 102,
   "id": "a7904d0a",
   "metadata": {},
   "outputs": [],
   "source": [
    "# Create a reverse mapping from cuisine to cluster number\n",
    "cuisine_to_cluster5 = {cuisine: cluster for cluster, cuisines in clusters5.items() for cuisine in cuisines}"
   ]
  },
  {
   "cell_type": "code",
   "execution_count": 103,
   "id": "8327c600",
   "metadata": {},
   "outputs": [],
   "source": [
    "# Function to map each cuisine tag to its cluster number\n",
    "def get_cluster_number(cuisine_tags):\n",
    "    return cuisine_to_cluster5.get(cuisine_tags[0], None)  # Assuming each cuisine tag is a single-item list"
   ]
  },
  {
   "cell_type": "code",
   "execution_count": 104,
   "id": "3dbe6652",
   "metadata": {},
   "outputs": [],
   "source": [
    "# Apply the function to create a new column with cluster numbers\n",
    "cuisine_df['Cluster'] = cuisine_df['Cuisine_Tags'].apply(get_cluster_number)"
   ]
  },
  {
   "cell_type": "code",
   "execution_count": 105,
   "id": "006d5c98",
   "metadata": {},
   "outputs": [],
   "source": [
    "# Convert text data to TF-IDF features\n",
    "vectorizer = TfidfVectorizer()\n",
    "X = vectorizer.fit_transform(cuisine_df['ingredients_str'])\n",
    "y = cuisine_df['Cluster']"
   ]
  },
  {
   "cell_type": "code",
   "execution_count": 106,
   "id": "92d8360b",
   "metadata": {},
   "outputs": [],
   "source": [
    "# Convert text data to TF-IDF features\n",
    "vectorizer = TfidfVectorizer()\n",
    "X = vectorizer.fit_transform(cuisine_df['ingredients_str'])\n",
    "y = cuisine_df['Cluster']"
   ]
  },
  {
   "cell_type": "code",
   "execution_count": 107,
   "id": "06c6ef10",
   "metadata": {},
   "outputs": [],
   "source": [
    "# Split data into training and test sets\n",
    "X_train, X_test, y_train, y_test = train_test_split(X, y, test_size=0.2, random_state=614)"
   ]
  },
  {
   "cell_type": "code",
   "execution_count": 108,
   "id": "a38c3e97",
   "metadata": {},
   "outputs": [],
   "source": [
    "# Kfold split\n",
    "kfold = KFold(n_splits = 4,\n",
    "              shuffle = True)"
   ]
  },
  {
   "cell_type": "code",
   "execution_count": 109,
   "id": "692a9fdc",
   "metadata": {},
   "outputs": [],
   "source": [
    "# Store the accuracy\n",
    "acc = np.zeros((3, 4))\n",
    "\n",
    "# Keeps track of the split\n",
    "i = 0\n",
    "for train_index, test_index in kfold.split(X_train, y_train):\n",
    "    ## Creates training split on the training set\n",
    "    X_train_train = X_train[train_index,:]\n",
    "    y_train_train = y_train.iloc[train_index]\n",
    "    \n",
    "    ## Creates holdout data for testing\n",
    "    X_holdout = X_train[test_index,:]\n",
    "    y_holdout = y_train.iloc[test_index]\n",
    "    \n",
    "    # Model 1 - LinearSVC\n",
    "    model_1 = LinearSVC(dual = False)\n",
    "    model_1.fit(X_train_train, y_train_train)\n",
    "    y_holdout_predict_1 = model_1.predict(X_holdout)\n",
    "    \n",
    "    #Store Accuracy\n",
    "    acc[0,i] = accuracy_score(y_holdout, y_holdout_predict_1)\n",
    "    \n",
    "    # Model 2 - KNN\n",
    "    model_2 = KNeighborsClassifier()\n",
    "    model_2.fit(X_train_train, y_train_train)\n",
    "    y_holdout_predict_2 = model_2.predict(X_holdout)\n",
    "    \n",
    "    # Store Accuracy\n",
    "    acc[1,i] = accuracy_score(y_holdout, y_holdout_predict_2)\n",
    "    \n",
    "    # Model 3 - Random Forest\n",
    "    model_3 = RandomForestClassifier()\n",
    "    model_3.fit(X_train_train, y_train_train)\n",
    "    y_holdout_predict_3 = model_3.predict(X_holdout)\n",
    "    \n",
    "    # Store Accuracy\n",
    "    acc[2,i] = accuracy_score(y_holdout, y_holdout_predict_3)\n",
    "    \n",
    "    # Moves onto the next split\n",
    "    i = i + 1"
   ]
  },
  {
   "cell_type": "code",
   "execution_count": 110,
   "id": "31113b71",
   "metadata": {
    "scrolled": true
   },
   "outputs": [
    {
     "data": {
      "image/png": "[encoded data removed]",
      "text/plain": [
       "<Figure size 576x288 with 1 Axes>"
      ]
     },
     "metadata": {
      "needs_background": "light"
     },
     "output_type": "display_data"
    }
   ],
   "source": [
    "## Figure to compare the performances\n",
    "plt.figure(figsize=(8,4))\n",
    "\n",
    "# Plots LinearSVC\n",
    "plt.scatter(np.zeros(4), \n",
    "            acc[0,:], \n",
    "            s=60, \n",
    "            c='white',\n",
    "            edgecolor='black',\n",
    "            label=\"Single Split\")\n",
    "\n",
    "# Plots KNN\n",
    "plt.scatter(np.ones(4), \n",
    "            acc[1,:], \n",
    "            s=60, \n",
    "            c='white',\n",
    "            edgecolor='black')\n",
    "\n",
    "# Plots Random Forest\n",
    "plt.scatter(2*np.ones(4), \n",
    "            acc[2,:], \n",
    "            s=60, \n",
    "            c='white',\n",
    "            edgecolor='black')\n",
    "\n",
    "# Plots Average\n",
    "plt.scatter([0,1,2], \n",
    "            np.mean(acc, axis=1), \n",
    "            s=60, \n",
    "            c='r',\n",
    "            marker='X',\n",
    "            label=\"Mean\")\n",
    "\n",
    "# Creates Legend\n",
    "plt.legend(fontsize=12)\n",
    "\n",
    "# Labels Ticks\n",
    "plt.xticks([0,1,2],[\"LinearSVC\",\"KNN\", \"Random Forest\"], fontsize=10)\n",
    "plt.yticks(fontsize=10)\n",
    "\n",
    "#Labels Graphs\n",
    "plt.xlabel(\"Model\", fontsize=12)\n",
    "plt.ylabel(\"Accuracy\", fontsize=12)\n",
    "\n",
    "# Plots Graph\n",
    "plt.show()"
   ]
  },
  {
   "cell_type": "code",
   "execution_count": null,
   "id": "d720060a",
   "metadata": {},
   "outputs": [],
   "source": []
  },
  {
   "cell_type": "code",
   "execution_count": 111,
   "id": "d3564ffa",
   "metadata": {
    "scrolled": true
   },
   "outputs": [
    {
     "data": {
      "text/plain": [
       "0.8419642857142857"
      ]
     },
     "execution_count": 111,
     "metadata": {},
     "output_type": "execute_result"
    }
   ],
   "source": [
    "y_predict=model_1.predict(X_test)\n",
    "accuracy_score(y_test, y_predict)"
   ]
  },
  {
   "cell_type": "code",
   "execution_count": 112,
   "id": "22f0965e",
   "metadata": {},
   "outputs": [
    {
     "data": {
      "text/plain": [
       "0.8034722222222223"
      ]
     },
     "execution_count": 112,
     "metadata": {},
     "output_type": "execute_result"
    }
   ],
   "source": [
    "y_predict=model_2.predict(X_test)\n",
    "accuracy_score(y_test, y_predict)"
   ]
  },
  {
   "cell_type": "code",
   "execution_count": 113,
   "id": "c1f1bfa4",
   "metadata": {
    "scrolled": true
   },
   "outputs": [
    {
     "data": {
      "text/plain": [
       "0.8279761904761904"
      ]
     },
     "execution_count": 113,
     "metadata": {},
     "output_type": "execute_result"
    }
   ],
   "source": [
    "y_predict=model_3.predict(X_test)\n",
    "accuracy_score(y_test, y_predict)"
   ]
  },
  {
   "cell_type": "code",
   "execution_count": null,
   "id": "52ffb3ee",
   "metadata": {},
   "outputs": [],
   "source": []
  },
  {
   "cell_type": "code",
   "execution_count": null,
   "id": "277135e3",
   "metadata": {},
   "outputs": [],
   "source": []
  },
  {
   "cell_type": "code",
   "execution_count": null,
   "id": "12a340b8",
   "metadata": {},
   "outputs": [],
   "source": []
  }
 ],
 "metadata": {
  "kernelspec": {
   "display_name": "Python 3 (ipykernel)",
   "language": "python",
   "name": "python3"
  },
  "language_info": {
   "codemirror_mode": {
    "name": "ipython",
    "version": 3
   },
   "file_extension": ".py",
   "mimetype": "text/x-python",
   "name": "python",
   "nbconvert_exporter": "python",
   "pygments_lexer": "ipython3",
   "version": "3.11.7"
  }
 },
 "nbformat": 4,
 "nbformat_minor": 5
}
